{
 "cells": [
  {
   "cell_type": "markdown",
   "metadata": {},
   "source": [
    "DATA UNDERSTANDING\n",
    "\n",
    "Context:\n",
    "Sebuah perusahaan bergerak di bidang rental dvd ingin mengetahui gambaran umum tentang ketertarikan/minat Customer terhadap genre film dvd yang direntalkan. Terdapat sebuah database yang menunjukan detail dari proses transaksi. Dari database tersebut, perusahaan ingin bisa mendapatkan insight yang dapat dijalankan, sehingga nantinya mereka dapat melakukan penerapan strategi yang tepat sasaran.\n",
    "\n",
    "\n",
    "Database Information\n",
    "\n",
    "Source: https://dev.mysql.com/doc/index-other.html (Sakila)\n",
    "\n",
    "1 The actor Table           : Tabel aktor mencantumkan informasi untuk semua aktor.\n",
    "2 The address Table         : Tabel alamat berisi informasi alamat untuk pelanggan, staf, dan toko.\n",
    "3 The category Table        : Tabel kategori mencantumkan kategori yang dapat ditetapkan untuk sebuah film.\n",
    "4 The city Table            : Tabel kategori kategori yang dapat ditetapkan untuk sebuah film\n",
    "5 The country Table         : Tabel kota berisi daftar kota.\n",
    "6 The customer Table        : Tabel berisi Data Customer\n",
    "7 The film Table            : Tabel film adalah daftar semua film yang berpotensi tersedia di toko. \n",
    "8 The film_actor Table      : Tabel film_actor digunakan untuk mendukung hubungan banyak-ke-banyak antara film dan aktor.\n",
    "9 The film_category Table   : Tabel film_category digunakan untuk mendukung hubungan banyak ke banyak antara film dan kategori.\n",
    "10 The film_text Table      : Tabel film_text berisi kolom film_id, judul dan deskripsi dari tabel film\n",
    "11 The inventory Table      : Tabel inventaris berisi satu baris untuk setiap salinan film tertentu di toko tertentu.\n",
    "12 The language Table       : Tabel bahasa adalah tabel pencarian yang mencantumkan kemungkinan bahasa yang dapat dimiliki film.\n",
    "13 The payment Table        : Tabel pembayaran mencatat setiap pembayaran yang dilakukan oleh pelanggan,\n",
    "14 The rental Table         : Tabel sewa berisi satu baris untuk setiap penyewaan setiap item.\n",
    "15 The staff Table          : Tabel staf mencantumkan semua anggota staf, termasuk informasi untuk alamat email, informasi login, dan gambar.\n",
    "16 The store Table          : Tabel toko mencantumkan semua toko dalam sistem.\n",
    "\n",
    "Focus Analysis: Customer Table"
   ]
  },
  {
   "cell_type": "markdown",
   "metadata": {},
   "source": [
    "DATABASE\n",
    "+## Connecting To Database\n",
    "\n",
    "Bagian ini merupakan langkah awal untuk mulai melakukan proses analisis data. Pertama adalah membuat koneksi ke database di mana seperti yang sudah dijelaskan sebelumnya, database yang akan digunakan adalah database sakila. Dengan melakukan koneksi ini, kita dapat mengakses seluruh tabel yang ada pada database."
   ]
  },
  {
   "cell_type": "code",
   "execution_count": 838,
   "metadata": {},
   "outputs": [],
   "source": [
    "# Import Modules\n",
    "import pandas as pd\n",
    "import numpy as np\n",
    "import mysql.connector as sqlcon"
   ]
  },
  {
   "cell_type": "code",
   "execution_count": 839,
   "metadata": {},
   "outputs": [],
   "source": [
    "# Connect To Database\n",
    "\n",
    "mydb = sqlcon.connect(\n",
    "    host = 'localhost',\n",
    "    user = 'root',\n",
    "    passwd = 'Sussis31',\n",
    "    database = 'sakila' \n",
    ")"
   ]
  },
  {
   "cell_type": "markdown",
   "metadata": {},
   "source": [
    "Selain melakukan koneksi ke database, hal lain yang perlu dilakukan pada bagian awal ini adalah membuat sebuah fungsi untuk menuliskan query yang kemudian akan disimpan dalam bentuk DataFrame. Tujuannya adalah agar data hasil query yang dibuat dapat disimpan dan digunakan untuk keperluan analisis data. Nantinya, di sini terdapat 2 query untuk mengambil data-data yang ada di database, bukan hanya berasal dari 1 tabel,\n",
    "tapi juga akan melibatkan hubungan antar tabel."
   ]
  },
  {
   "cell_type": "code",
   "execution_count": 840,
   "metadata": {},
   "outputs": [],
   "source": [
    "# Query Function\n",
    "\n",
    "curs = mydb.cursor()\n",
    "\n",
    "def sql_table (query) :\n",
    "    curs.execute (query)\n",
    "    result = curs.fetchall()\n",
    "    tabel1 = pd.DataFrame(result, columns=curs.column_names)\n",
    "    return tabel1"
   ]
  },
  {
   "cell_type": "markdown",
   "metadata": {},
   "source": [
    "Data Detail Costumer & Transaksi\n",
    "\n",
    "Data pertama ini merupakan data utama yang nantinya akan dianalisa lebih lanjut. Data ini merupakan gabungan dari 5 tabel, yaitu tabel Costumer, Payment, Rental, inventory & film. Masing-masing dari setiap tabel tersebut diambil beberapa kolomnya dan tidak diambil secara keseluruhan. Informasi-informasi yang dianggap penting saja lah yang diambil. Informasi yang diambil antara lain adalah :\n",
    "\n",
    "customer_id dari tabel customers\n",
    "first_name dari tabel customers\n",
    "last_name dari tabel customers\n",
    "email dari tabel customers\n",
    "rental_id dari tabel payment\n",
    "amount dari tabel payment\n",
    "inventory_id dari tabel rental\n",
    "rental_date dari tabel rental\n",
    "return_date dari tabel rental\n",
    "film_id dari tabel inventory\n",
    "title dari tabel film\n",
    "rental_rate dari tabel film\n",
    "rental_duration dari tabel film\n",
    "\n",
    "Selain dari tabel, terdapat sebuah kolom juga yang dinamakan Total_Amount yang merupakan perkalian antara amount dan rental duration\n",
    "Semua informasi tersebut kemudian dijadikan dalam sebuah DataFrame yang nantinya akan diolah informasinya."
   ]
  },
  {
   "cell_type": "code",
   "execution_count": 841,
   "metadata": {},
   "outputs": [
    {
     "data": {
      "text/html": [
       "<div>\n",
       "<style scoped>\n",
       "    .dataframe tbody tr th:only-of-type {\n",
       "        vertical-align: middle;\n",
       "    }\n",
       "\n",
       "    .dataframe tbody tr th {\n",
       "        vertical-align: top;\n",
       "    }\n",
       "\n",
       "    .dataframe thead th {\n",
       "        text-align: right;\n",
       "    }\n",
       "</style>\n",
       "<table border=\"1\" class=\"dataframe\">\n",
       "  <thead>\n",
       "    <tr style=\"text-align: right;\">\n",
       "      <th></th>\n",
       "      <th>customer_id</th>\n",
       "      <th>rental_id</th>\n",
       "      <th>first_name</th>\n",
       "      <th>last_name</th>\n",
       "      <th>email</th>\n",
       "      <th>title</th>\n",
       "      <th>Category</th>\n",
       "      <th>rental_date</th>\n",
       "      <th>return_date</th>\n",
       "      <th>payment_date</th>\n",
       "      <th>rental_duration</th>\n",
       "      <th>amount</th>\n",
       "      <th>total_Amount</th>\n",
       "      <th>rental_rate</th>\n",
       "    </tr>\n",
       "  </thead>\n",
       "  <tbody>\n",
       "    <tr>\n",
       "      <th>0</th>\n",
       "      <td>1</td>\n",
       "      <td>76.0</td>\n",
       "      <td>MARY</td>\n",
       "      <td>SMITH</td>\n",
       "      <td>MARY.SMITH@sakilacustomer.org</td>\n",
       "      <td>PATIENT SISTER</td>\n",
       "      <td>Classics</td>\n",
       "      <td>2005-05-25 11:30:37</td>\n",
       "      <td>2005-06-03 12:00:37</td>\n",
       "      <td>2005-05-25 11:30:37</td>\n",
       "      <td>7.0</td>\n",
       "      <td>2.99</td>\n",
       "      <td>20.9</td>\n",
       "      <td>0.99</td>\n",
       "    </tr>\n",
       "    <tr>\n",
       "      <th>1</th>\n",
       "      <td>1</td>\n",
       "      <td>573.0</td>\n",
       "      <td>MARY</td>\n",
       "      <td>SMITH</td>\n",
       "      <td>MARY.SMITH@sakilacustomer.org</td>\n",
       "      <td>TALENTED HOMICIDE</td>\n",
       "      <td>Sports</td>\n",
       "      <td>2005-05-28 10:35:23</td>\n",
       "      <td>2005-06-03 06:32:23</td>\n",
       "      <td>2005-05-28 10:35:23</td>\n",
       "      <td>6.0</td>\n",
       "      <td>0.99</td>\n",
       "      <td>5.9</td>\n",
       "      <td>0.99</td>\n",
       "    </tr>\n",
       "    <tr>\n",
       "      <th>2</th>\n",
       "      <td>1</td>\n",
       "      <td>1185.0</td>\n",
       "      <td>MARY</td>\n",
       "      <td>SMITH</td>\n",
       "      <td>MARY.SMITH@sakilacustomer.org</td>\n",
       "      <td>MUSKETEERS WAIT</td>\n",
       "      <td>Classics</td>\n",
       "      <td>2005-06-15 00:54:12</td>\n",
       "      <td>2005-06-23 02:42:12</td>\n",
       "      <td>2005-06-15 00:54:12</td>\n",
       "      <td>7.0</td>\n",
       "      <td>5.99</td>\n",
       "      <td>41.9</td>\n",
       "      <td>4.99</td>\n",
       "    </tr>\n",
       "    <tr>\n",
       "      <th>3</th>\n",
       "      <td>1</td>\n",
       "      <td>1422.0</td>\n",
       "      <td>MARY</td>\n",
       "      <td>SMITH</td>\n",
       "      <td>MARY.SMITH@sakilacustomer.org</td>\n",
       "      <td>DETECTIVE VISION</td>\n",
       "      <td>Classics</td>\n",
       "      <td>2005-06-15 18:02:53</td>\n",
       "      <td>2005-06-19 15:54:53</td>\n",
       "      <td>2005-06-15 18:02:53</td>\n",
       "      <td>4.0</td>\n",
       "      <td>0.99</td>\n",
       "      <td>4.0</td>\n",
       "      <td>0.99</td>\n",
       "    </tr>\n",
       "    <tr>\n",
       "      <th>4</th>\n",
       "      <td>1</td>\n",
       "      <td>1476.0</td>\n",
       "      <td>MARY</td>\n",
       "      <td>SMITH</td>\n",
       "      <td>MARY.SMITH@sakilacustomer.org</td>\n",
       "      <td>FERRIS MOTHER</td>\n",
       "      <td>Comedy</td>\n",
       "      <td>2005-06-15 21:08:46</td>\n",
       "      <td>2005-06-25 02:26:46</td>\n",
       "      <td>2005-06-15 21:08:46</td>\n",
       "      <td>3.0</td>\n",
       "      <td>9.99</td>\n",
       "      <td>30.0</td>\n",
       "      <td>2.99</td>\n",
       "    </tr>\n",
       "  </tbody>\n",
       "</table>\n",
       "</div>"
      ],
      "text/plain": [
       "   customer_id  rental_id first_name last_name                          email  \\\n",
       "0            1       76.0       MARY     SMITH  MARY.SMITH@sakilacustomer.org   \n",
       "1            1      573.0       MARY     SMITH  MARY.SMITH@sakilacustomer.org   \n",
       "2            1     1185.0       MARY     SMITH  MARY.SMITH@sakilacustomer.org   \n",
       "3            1     1422.0       MARY     SMITH  MARY.SMITH@sakilacustomer.org   \n",
       "4            1     1476.0       MARY     SMITH  MARY.SMITH@sakilacustomer.org   \n",
       "\n",
       "               title  Category         rental_date         return_date  \\\n",
       "0     PATIENT SISTER  Classics 2005-05-25 11:30:37 2005-06-03 12:00:37   \n",
       "1  TALENTED HOMICIDE    Sports 2005-05-28 10:35:23 2005-06-03 06:32:23   \n",
       "2    MUSKETEERS WAIT  Classics 2005-06-15 00:54:12 2005-06-23 02:42:12   \n",
       "3   DETECTIVE VISION  Classics 2005-06-15 18:02:53 2005-06-19 15:54:53   \n",
       "4      FERRIS MOTHER    Comedy 2005-06-15 21:08:46 2005-06-25 02:26:46   \n",
       "\n",
       "         payment_date  rental_duration amount total_Amount rental_rate  \n",
       "0 2005-05-25 11:30:37              7.0   2.99         20.9        0.99  \n",
       "1 2005-05-28 10:35:23              6.0   0.99          5.9        0.99  \n",
       "2 2005-06-15 00:54:12              7.0   5.99         41.9        4.99  \n",
       "3 2005-06-15 18:02:53              4.0   0.99          4.0        0.99  \n",
       "4 2005-06-15 21:08:46              3.0   9.99         30.0        2.99  "
      ]
     },
     "execution_count": 841,
     "metadata": {},
     "output_type": "execute_result"
    }
   ],
   "source": [
    "# Query 1\n",
    "tabel1 = sql_table (''' \n",
    "    select c.customer_id,  p.rental_id, c.first_name, c.last_name, c.email,\n",
    "\tf.title, ct. name as Category, \n",
    "    r.rental_date, r.return_date, p. payment_date, f. rental_duration,  p.amount, \n",
    "    round((p.amount * f.rental_duration),1) total_Amount, f. rental_rate\n",
    "from customer c\n",
    "left join payment p on c.customer_id = p.customer_id\n",
    "left join rental r on p.rental_id = r.rental_id\n",
    "left join inventory i on r.inventory_id = i.inventory_id\n",
    "left join film f on i.film_id = f.film_id\n",
    "left join film_category fc on i.film_id = fc.film_id\n",
    "left join category ct on fc.category_id = ct.category_id;\n",
    "''')\n",
    "tabel1.head()"
   ]
  },
  {
   "cell_type": "markdown",
   "metadata": {},
   "source": [
    "Data Kategori, Jumlah Film, Rental Rate & Rental Total\n",
    "\n",
    "Data yang kedua ini merupakan informasi yang bisa menjadi data tambahan untuk melihat gambaran tentang data yang dimiliki. Data ini memuat Kategori film yang tersedia mulai dari sports hingga comedy. Dari sini bisa dilihat gambaran Jumlah Film, Rental Rate & film genre apakah yang paling banyak dirental oleh Customer. Dari data ini juga bisa dilihat keadaan bagaimana gambaran jika suatu saat ingin menambah genre dvd film yang disediakan agar customer terpuaskan dan semakin banyak yang ingin di rental."
   ]
  },
  {
   "cell_type": "code",
   "execution_count": 842,
   "metadata": {},
   "outputs": [
    {
     "data": {
      "text/html": [
       "<div>\n",
       "<style scoped>\n",
       "    .dataframe tbody tr th:only-of-type {\n",
       "        vertical-align: middle;\n",
       "    }\n",
       "\n",
       "    .dataframe tbody tr th {\n",
       "        vertical-align: top;\n",
       "    }\n",
       "\n",
       "    .dataframe thead th {\n",
       "        text-align: right;\n",
       "    }\n",
       "</style>\n",
       "<table border=\"1\" class=\"dataframe\">\n",
       "  <thead>\n",
       "    <tr style=\"text-align: right;\">\n",
       "      <th></th>\n",
       "      <th>Category</th>\n",
       "      <th>Jumlah_Film</th>\n",
       "      <th>rata_Rental_Rate</th>\n",
       "      <th>Rental_Total</th>\n",
       "    </tr>\n",
       "  </thead>\n",
       "  <tbody>\n",
       "    <tr>\n",
       "      <th>0</th>\n",
       "      <td>Sports</td>\n",
       "      <td>74</td>\n",
       "      <td>3.125135</td>\n",
       "      <td>5314.21</td>\n",
       "    </tr>\n",
       "    <tr>\n",
       "      <th>1</th>\n",
       "      <td>Sci-Fi</td>\n",
       "      <td>61</td>\n",
       "      <td>3.219508</td>\n",
       "      <td>4756.98</td>\n",
       "    </tr>\n",
       "    <tr>\n",
       "      <th>2</th>\n",
       "      <td>Animation</td>\n",
       "      <td>66</td>\n",
       "      <td>2.808182</td>\n",
       "      <td>4656.30</td>\n",
       "    </tr>\n",
       "    <tr>\n",
       "      <th>3</th>\n",
       "      <td>Drama</td>\n",
       "      <td>62</td>\n",
       "      <td>3.022258</td>\n",
       "      <td>4587.39</td>\n",
       "    </tr>\n",
       "    <tr>\n",
       "      <th>4</th>\n",
       "      <td>Comedy</td>\n",
       "      <td>58</td>\n",
       "      <td>3.162414</td>\n",
       "      <td>4383.58</td>\n",
       "    </tr>\n",
       "  </tbody>\n",
       "</table>\n",
       "</div>"
      ],
      "text/plain": [
       "    Category  Jumlah_Film rata_Rental_Rate Rental_Total\n",
       "0     Sports           74         3.125135      5314.21\n",
       "1     Sci-Fi           61         3.219508      4756.98\n",
       "2  Animation           66         2.808182      4656.30\n",
       "3      Drama           62         3.022258      4587.39\n",
       "4     Comedy           58         3.162414      4383.58"
      ]
     },
     "execution_count": 842,
     "metadata": {},
     "output_type": "execute_result"
    }
   ],
   "source": [
    "# Query 2\n",
    "\n",
    "tabel2 = sql_table(\n",
    "    '''\n",
    "select c.name as Category, Count(f.title) as Jumlah_Film, AVG(f.rental_rate) as rata_Rental_Rate, s.total_sales as Rental_Total\n",
    "from category c\n",
    "left join film_category fc ON c.category_id = fc.category_id\n",
    "left join film f on f.film_id = fc.film_id\n",
    "left join sales_by_film_category s ON c.name = s.category\n",
    "Group BY c.name\n",
    "order by total_sales desc;\n",
    "''')\n",
    "tabel2.head()"
   ]
  },
  {
   "cell_type": "markdown",
   "metadata": {},
   "source": [
    "DATA MANIPULATION\n",
    "\n",
    "Data yang digunakan untuk dianalisis adalah data pada tabel1. Sebelum melakukan analisis lebih lanjut, hal yang harus dilakukan adalah mengecek informasi serta anomali pada data. Jika memang terdapat hal-hal yang dianggap 'kotor' pada data, maka yang perlu dilakukan adalah melakukan penanganan pada bagian tersebut. Pada bagian ini, data akan 'dibersihkan', sehingga output akhir yang diharapkan adalah terdapat sebuah dataset yang bersih yang dapat dianalisis lebih lanjut dengan menampilkan visualisasi, serta melihat statistics-nya."
   ]
  },
  {
   "cell_type": "markdown",
   "metadata": {},
   "source": [
    "Data Anomalies"
   ]
  },
  {
   "cell_type": "code",
   "execution_count": 843,
   "metadata": {},
   "outputs": [
    {
     "name": "stdout",
     "output_type": "stream",
     "text": [
      "<class 'pandas.core.frame.DataFrame'>\n",
      "RangeIndex: 16049 entries, 0 to 16048\n",
      "Data columns (total 14 columns):\n",
      " #   Column           Non-Null Count  Dtype         \n",
      "---  ------           --------------  -----         \n",
      " 0   customer_id      16049 non-null  int64         \n",
      " 1   rental_id        16044 non-null  float64       \n",
      " 2   first_name       16049 non-null  object        \n",
      " 3   last_name        16049 non-null  object        \n",
      " 4   email            16049 non-null  object        \n",
      " 5   title            16044 non-null  object        \n",
      " 6   Category         16044 non-null  object        \n",
      " 7   rental_date      16044 non-null  datetime64[ns]\n",
      " 8   return_date      15861 non-null  datetime64[ns]\n",
      " 9   payment_date     16049 non-null  datetime64[ns]\n",
      " 10  rental_duration  16044 non-null  float64       \n",
      " 11  amount           16049 non-null  object        \n",
      " 12  total_Amount     16044 non-null  object        \n",
      " 13  rental_rate      16044 non-null  object        \n",
      "dtypes: datetime64[ns](3), float64(2), int64(1), object(8)\n",
      "memory usage: 1.7+ MB\n"
     ]
    }
   ],
   "source": [
    "# Check Info Tabel1\n",
    "\n",
    "tabel1.info()"
   ]
  },
  {
   "cell_type": "markdown",
   "metadata": {},
   "source": [
    "Melihat Data Sekilas Dari General Info\n",
    "\n",
    "Terlihat bahwa secara keseluruhan terdapat 16049 baris data dengan total 14 kolom. Setiap kolomnya memiliki tipe data yang berbeda-beda. Ada object, integer, float dan date. Mari berforkus pada non-null values atau data yang tersedia pada setiap kolomnya. Jika melihat informasi tersebut, tidak semua kolom atau feature yang memiliki data lengkap. Yang paling terlihat jomplang adalah pada return_date. Features tersebut kehilangan lebih dari 1% data. Selain dari itu, ada beberapa feature yang datanya juga missing, yang nantinya akan ditampilkan pada bagian berikutnya. Kesimpulan pertama adalah bahwa terdapat missing value yang harus ditanggulangi.\n",
    "\n",
    "Fokus berikutnya adalah perhatikan pada features berikut ini:\n",
    "amount\n",
    "total_Amount\n",
    "rental_rate\n",
    "Kedua feature ini merupakan feature yang seharusnya memiliki tipe data numerik (dibuktikan pada preview data di bagian sebelumnya), sedangkan yang terbaca tipe data dari kedua feature ini adalah object. Artinya, kedua feature ini tidak dianggap memiliki komponen data yang numerik. Tentu saja hal tersebut harus ditanggulangi, mengingat ke depannya data yang bersifat numerik ini akan digunakan."
   ]
  },
  {
   "cell_type": "code",
   "execution_count": 844,
   "metadata": {},
   "outputs": [
    {
     "data": {
      "text/plain": [
       "customer_id          0\n",
       "rental_id            5\n",
       "first_name           0\n",
       "last_name            0\n",
       "email                0\n",
       "title                5\n",
       "Category             5\n",
       "rental_date          5\n",
       "return_date        188\n",
       "payment_date         0\n",
       "rental_duration      5\n",
       "amount               0\n",
       "total_Amount         5\n",
       "rental_rate          5\n",
       "dtype: int64"
      ]
     },
     "execution_count": 844,
     "metadata": {},
     "output_type": "execute_result"
    }
   ],
   "source": [
    "# Check Missing Value\n",
    "\n",
    "tabel1.isnull().sum()"
   ]
  },
  {
   "cell_type": "code",
   "execution_count": 845,
   "metadata": {},
   "outputs": [
    {
     "data": {
      "text/plain": [
       "customer_id        0.000000\n",
       "rental_id          0.031155\n",
       "first_name         0.000000\n",
       "last_name          0.000000\n",
       "email              0.000000\n",
       "title              0.031155\n",
       "Category           0.031155\n",
       "rental_date        0.031155\n",
       "return_date        1.171413\n",
       "payment_date       0.000000\n",
       "rental_duration    0.031155\n",
       "amount             0.000000\n",
       "total_Amount       0.031155\n",
       "rental_rate        0.031155\n",
       "dtype: float64"
      ]
     },
     "execution_count": 845,
     "metadata": {},
     "output_type": "execute_result"
    }
   ],
   "source": [
    "tabel1.isna().sum()/len(tabel1.index)*100"
   ]
  },
  {
   "cell_type": "markdown",
   "metadata": {},
   "source": [
    "Missing Values\n",
    "\n",
    "Terdapat beberapa feature yang memang memiliki missing values. Yang paling jadi sorotan adalah return_date yang memiliki total missing value yang paling besar nilainya yaitu 188. Akan tetapi karena missing value hanya di kisaran 1% dari data yang ada, maka tabel tersebut tidak akan dihilangkan karena nantinya akan digunakan untuk kebutuhan estimasi berapa lama pemakaian dvd tersebut.\n",
    "\n",
    "Lalu, bagaimana dengan feature lainnya? setengah feature memiliki missing value sebanyak 5. Dari segi angka, bisa diasumsikan bahwa 5 data yang hilang tersebut adalah bagian dari row yang sama yang merupakan data yang betul-betul kosong dari database-nya. Sehingga, cara untuk mengatasinya cukup dengan melakukan drop data row. Hal tersebut karena 5 dari 16049 data hanya kurang lebih 0,3% data, sehingga tidak akan mengurangi informasi secara signifikan."
   ]
  },
  {
   "cell_type": "markdown",
   "metadata": {},
   "source": [
    "Handling Anomalies\n",
    "\n",
    "Setelah mengetahui hal-hal yang harus 'dibereskan' terlebih dahulu, maka pada bagian ini, hal-hal tersebut harus diatasi. Pertama, masalah missing value. Sebenarnya pada bagian sebelumnya sudah diberi tahu apa saja yang harus dilakukan untuk mengatasi masalah tersebut. Bagian pertama jelas akan dilakukan drop row/baris dari tabel return_date. Setelah drop row, barulah kemudian missing value dari setiap row-nya dihapus."
   ]
  },
  {
   "cell_type": "code",
   "execution_count": 846,
   "metadata": {},
   "outputs": [],
   "source": [
    "# Remove Missing Value \n",
    "\n",
    "tabel1.dropna(inplace = True)"
   ]
  },
  {
   "cell_type": "code",
   "execution_count": 847,
   "metadata": {},
   "outputs": [
    {
     "data": {
      "text/plain": [
       "customer_id        0\n",
       "rental_id          0\n",
       "first_name         0\n",
       "last_name          0\n",
       "email              0\n",
       "title              0\n",
       "Category           0\n",
       "rental_date        0\n",
       "return_date        0\n",
       "payment_date       0\n",
       "rental_duration    0\n",
       "amount             0\n",
       "total_Amount       0\n",
       "rental_rate        0\n",
       "dtype: int64"
      ]
     },
     "execution_count": 847,
     "metadata": {},
     "output_type": "execute_result"
    }
   ],
   "source": [
    "# Recheck Info\n",
    "\n",
    "tabel1.isnull().sum()"
   ]
  },
  {
   "cell_type": "markdown",
   "metadata": {},
   "source": [
    "Recheck Missing Value Information\n",
    "\n",
    "Setelah melakukan proses drop missing value, selanjutnya adalah melakukan pengecekan terhadap data yang dimiliki untuk memastikan apakah sudah tidak ada missing value lagi. Benar saja, jika melihat data pada output di atas, data return_date sudah tidak terdapat lagi missing value sama sekali. Untuk masing-masing feature juga sudah memiliki 0 missing value yang berarti masalah missing value sudah teratasi."
   ]
  },
  {
   "cell_type": "code",
   "execution_count": 848,
   "metadata": {},
   "outputs": [
    {
     "name": "stdout",
     "output_type": "stream",
     "text": [
      "<class 'pandas.core.frame.DataFrame'>\n",
      "Int64Index: 15861 entries, 0 to 16048\n",
      "Data columns (total 14 columns):\n",
      " #   Column           Non-Null Count  Dtype         \n",
      "---  ------           --------------  -----         \n",
      " 0   customer_id      15861 non-null  int64         \n",
      " 1   rental_id        15861 non-null  float64       \n",
      " 2   first_name       15861 non-null  object        \n",
      " 3   last_name        15861 non-null  object        \n",
      " 4   email            15861 non-null  object        \n",
      " 5   title            15861 non-null  object        \n",
      " 6   Category         15861 non-null  object        \n",
      " 7   rental_date      15861 non-null  datetime64[ns]\n",
      " 8   return_date      15861 non-null  datetime64[ns]\n",
      " 9   payment_date     15861 non-null  datetime64[ns]\n",
      " 10  rental_duration  15861 non-null  float64       \n",
      " 11  amount           15861 non-null  object        \n",
      " 12  total_Amount     15861 non-null  object        \n",
      " 13  rental_rate      15861 non-null  object        \n",
      "dtypes: datetime64[ns](3), float64(2), int64(1), object(8)\n",
      "memory usage: 1.8+ MB\n"
     ]
    }
   ],
   "source": [
    "# Recheck Info\n",
    "\n",
    "tabel1.info()"
   ]
  },
  {
   "cell_type": "markdown",
   "metadata": {},
   "source": [
    "Mengubah Tipe Data Yang Salah\n",
    "\n",
    "Telah disebutkan juga sebelumnya bahwa ada tipe data yang tidak sesuai. Kedua features tersebut terlebih dahulu diubah agar fungsionalitasnya kembali ke hakekatnya. Numerik akan diperlakukan sebagai tipe data numerik, begitu juga dengan tipe data object. Tujuannya tentu saja agar features tersebut dapat dipergunakan sebagaimana mestinya."
   ]
  },
  {
   "cell_type": "code",
   "execution_count": 849,
   "metadata": {},
   "outputs": [],
   "source": [
    "# Change Spesific Column To Date Time Format\n",
    "\n",
    "tabel1['amount'] = pd.to_numeric(tabel1['amount'])\n",
    "tabel1['total_Amount'] = pd.to_numeric(tabel1['total_Amount'])\n",
    "tabel1['rental_rate'] = pd.to_numeric(tabel1['rental_rate'])"
   ]
  },
  {
   "cell_type": "code",
   "execution_count": 850,
   "metadata": {},
   "outputs": [
    {
     "name": "stdout",
     "output_type": "stream",
     "text": [
      "<class 'pandas.core.frame.DataFrame'>\n",
      "Int64Index: 15861 entries, 0 to 16048\n",
      "Data columns (total 14 columns):\n",
      " #   Column           Non-Null Count  Dtype         \n",
      "---  ------           --------------  -----         \n",
      " 0   customer_id      15861 non-null  int64         \n",
      " 1   rental_id        15861 non-null  float64       \n",
      " 2   first_name       15861 non-null  object        \n",
      " 3   last_name        15861 non-null  object        \n",
      " 4   email            15861 non-null  object        \n",
      " 5   title            15861 non-null  object        \n",
      " 6   Category         15861 non-null  object        \n",
      " 7   rental_date      15861 non-null  datetime64[ns]\n",
      " 8   return_date      15861 non-null  datetime64[ns]\n",
      " 9   payment_date     15861 non-null  datetime64[ns]\n",
      " 10  rental_duration  15861 non-null  float64       \n",
      " 11  amount           15861 non-null  float64       \n",
      " 12  total_Amount     15861 non-null  float64       \n",
      " 13  rental_rate      15861 non-null  float64       \n",
      "dtypes: datetime64[ns](3), float64(5), int64(1), object(5)\n",
      "memory usage: 1.8+ MB\n"
     ]
    }
   ],
   "source": [
    "tabel1.info()"
   ]
  },
  {
   "cell_type": "markdown",
   "metadata": {},
   "source": [
    "Recheck Data Information\n",
    "\n",
    "Bagian sebelumnya, 3 features yang memiliki tipe data yang salah sudah diubah ke dalam tipe data yang seharusnya. Untuk memastikannya, output di atas merupakan informasi umum yang kembali diperlihatkan untuk memastikan tipe data yang sudah diubah tersebut. Mari fokus ke kelima data yang sudah disebutkan sebelumnya. 3 features yang awalnya bertipe data object, yaitu amount, total_Amount dan rental_rate sudah menjadi tipe data numeric. Dengan begini, perubahan yang dilakukan sebelumnya sudah terimplementasi dan anomali yang kedua sudah teratasi."
   ]
  },
  {
   "cell_type": "code",
   "execution_count": 851,
   "metadata": {},
   "outputs": [
    {
     "data": {
      "text/html": [
       "<div>\n",
       "<style scoped>\n",
       "    .dataframe tbody tr th:only-of-type {\n",
       "        vertical-align: middle;\n",
       "    }\n",
       "\n",
       "    .dataframe tbody tr th {\n",
       "        vertical-align: top;\n",
       "    }\n",
       "\n",
       "    .dataframe thead th {\n",
       "        text-align: right;\n",
       "    }\n",
       "</style>\n",
       "<table border=\"1\" class=\"dataframe\">\n",
       "  <thead>\n",
       "    <tr style=\"text-align: right;\">\n",
       "      <th></th>\n",
       "      <th>customer_id</th>\n",
       "      <th>rental_id</th>\n",
       "      <th>first_name</th>\n",
       "      <th>last_name</th>\n",
       "      <th>email</th>\n",
       "      <th>title</th>\n",
       "      <th>Category</th>\n",
       "      <th>rental_date</th>\n",
       "      <th>return_date</th>\n",
       "      <th>payment_date</th>\n",
       "      <th>rental_duration</th>\n",
       "      <th>amount</th>\n",
       "      <th>total_Amount</th>\n",
       "      <th>rental_rate</th>\n",
       "    </tr>\n",
       "  </thead>\n",
       "  <tbody>\n",
       "  </tbody>\n",
       "</table>\n",
       "</div>"
      ],
      "text/plain": [
       "Empty DataFrame\n",
       "Columns: [customer_id, rental_id, first_name, last_name, email, title, Category, rental_date, return_date, payment_date, rental_duration, amount, total_Amount, rental_rate]\n",
       "Index: []"
      ]
     },
     "execution_count": 851,
     "metadata": {},
     "output_type": "execute_result"
    }
   ],
   "source": [
    "# Check Dupliacate\n",
    "\n",
    "tabel1[tabel1.duplicated()]"
   ]
  },
  {
   "cell_type": "markdown",
   "metadata": {},
   "source": [
    "Data Duplicate\n",
    "\n",
    "Anomali berikutnya yang bisa ditemui adalah data yang duplikat. Tentu saja data yang bersifat duplikat ini akan menjadi sesuatu hal yang akan mengganggu proses analisis data. Jika memang nantinya terdapat data yang duplikat, sebaiknya data duplikatnya dihapus dan disisakan data yang unique saja. Untuk data saat ini, melihat output di atas artinya tidak terdapat data yang duplikat. Dengan begitu tidak perlu ada action yang dilakukan."
   ]
  },
  {
   "cell_type": "markdown",
   "metadata": {},
   "source": [
    "Feature 'ProcessingDate'\n",
    "\n",
    "Data awal menunjukan terdapat 2 features yang merupakan tipe data datetime yang dapat di Process. Artinya, kita dapat melakukan ekstraksi informasi tambahan dari kedua features tersebut. Sebelumnya, kita perlu tahu dulu definisi dari kedua tabel tersebut. rental_date secara singkat dapat diartikan sebagai waktu atau kapan dvd tersebut disewakan, sedangkat return_date adalah waktu dikembalikannya barang tersebut.\n",
    "\n",
    "Melihat kedua definisi tersebut, sebuah informasi dapat diambil, yakni seberapa lama waktu proses barangnya dari waktu peminjaman hingga pengembalian. Oleh karena itu, untuk mendapatkan informasinya, maka perlu dilakukan pengurangan antara return_date dan rental_date juga . Mungkin akan timbul pertanyaan, apakah waktu dapat dikurangkan? Jawabannya, bisa. Output yang keluar nantinya akan berupa selisih atau lamanya waktu proses tersebut dalam satuan hari."
   ]
  },
  {
   "cell_type": "code",
   "execution_count": 852,
   "metadata": {},
   "outputs": [
    {
     "data": {
      "text/html": [
       "<div>\n",
       "<style scoped>\n",
       "    .dataframe tbody tr th:only-of-type {\n",
       "        vertical-align: middle;\n",
       "    }\n",
       "\n",
       "    .dataframe tbody tr th {\n",
       "        vertical-align: top;\n",
       "    }\n",
       "\n",
       "    .dataframe thead th {\n",
       "        text-align: right;\n",
       "    }\n",
       "</style>\n",
       "<table border=\"1\" class=\"dataframe\">\n",
       "  <thead>\n",
       "    <tr style=\"text-align: right;\">\n",
       "      <th></th>\n",
       "      <th>customer_id</th>\n",
       "      <th>rental_id</th>\n",
       "      <th>first_name</th>\n",
       "      <th>last_name</th>\n",
       "      <th>email</th>\n",
       "      <th>title</th>\n",
       "      <th>Category</th>\n",
       "      <th>rental_date</th>\n",
       "      <th>return_date</th>\n",
       "      <th>payment_date</th>\n",
       "      <th>rental_duration</th>\n",
       "      <th>amount</th>\n",
       "      <th>total_Amount</th>\n",
       "      <th>rental_rate</th>\n",
       "      <th>ProcessingDate</th>\n",
       "    </tr>\n",
       "  </thead>\n",
       "  <tbody>\n",
       "    <tr>\n",
       "      <th>5549</th>\n",
       "      <td>204</td>\n",
       "      <td>15415.0</td>\n",
       "      <td>ROSEMARY</td>\n",
       "      <td>SCHMIDT</td>\n",
       "      <td>ROSEMARY.SCHMIDT@sakilacustomer.org</td>\n",
       "      <td>TRAP GUYS</td>\n",
       "      <td>Foreign</td>\n",
       "      <td>2005-08-22 23:48:56</td>\n",
       "      <td>2005-09-01 02:05:56</td>\n",
       "      <td>2005-08-22 23:48:56</td>\n",
       "      <td>3.0</td>\n",
       "      <td>11.99</td>\n",
       "      <td>36.0</td>\n",
       "      <td>4.99</td>\n",
       "      <td>9 days 02:17:00</td>\n",
       "    </tr>\n",
       "    <tr>\n",
       "      <th>14390</th>\n",
       "      <td>534</td>\n",
       "      <td>12691.0</td>\n",
       "      <td>CHRISTIAN</td>\n",
       "      <td>JUNG</td>\n",
       "      <td>CHRISTIAN.JUNG@sakilacustomer.org</td>\n",
       "      <td>SONG HEDWIG</td>\n",
       "      <td>Music</td>\n",
       "      <td>2005-08-18 20:07:46</td>\n",
       "      <td>2005-08-26 18:49:46</td>\n",
       "      <td>2005-08-18 20:07:46</td>\n",
       "      <td>3.0</td>\n",
       "      <td>5.99</td>\n",
       "      <td>18.0</td>\n",
       "      <td>0.99</td>\n",
       "      <td>7 days 22:42:00</td>\n",
       "    </tr>\n",
       "    <tr>\n",
       "      <th>10358</th>\n",
       "      <td>382</td>\n",
       "      <td>10327.0</td>\n",
       "      <td>VICTOR</td>\n",
       "      <td>BARKLEY</td>\n",
       "      <td>VICTOR.BARKLEY@sakilacustomer.org</td>\n",
       "      <td>BINGO TALENTED</td>\n",
       "      <td>Sci-Fi</td>\n",
       "      <td>2005-08-01 04:55:35</td>\n",
       "      <td>2005-08-07 08:17:35</td>\n",
       "      <td>2005-08-01 04:55:35</td>\n",
       "      <td>5.0</td>\n",
       "      <td>3.99</td>\n",
       "      <td>20.0</td>\n",
       "      <td>2.99</td>\n",
       "      <td>6 days 03:22:00</td>\n",
       "    </tr>\n",
       "    <tr>\n",
       "      <th>9835</th>\n",
       "      <td>364</td>\n",
       "      <td>1722.0</td>\n",
       "      <td>BENJAMIN</td>\n",
       "      <td>VARNEY</td>\n",
       "      <td>BENJAMIN.VARNEY@sakilacustomer.org</td>\n",
       "      <td>INSTINCT AIRPORT</td>\n",
       "      <td>Sports</td>\n",
       "      <td>2005-06-16 15:12:52</td>\n",
       "      <td>2005-06-19 13:01:52</td>\n",
       "      <td>2005-06-16 15:12:52</td>\n",
       "      <td>4.0</td>\n",
       "      <td>2.99</td>\n",
       "      <td>12.0</td>\n",
       "      <td>2.99</td>\n",
       "      <td>2 days 21:49:00</td>\n",
       "    </tr>\n",
       "    <tr>\n",
       "      <th>3961</th>\n",
       "      <td>146</td>\n",
       "      <td>6327.0</td>\n",
       "      <td>JAMIE</td>\n",
       "      <td>RICE</td>\n",
       "      <td>JAMIE.RICE@sakilacustomer.org</td>\n",
       "      <td>DADDY PITTSBURGH</td>\n",
       "      <td>Comedy</td>\n",
       "      <td>2005-07-11 19:07:29</td>\n",
       "      <td>2005-07-15 16:09:29</td>\n",
       "      <td>2005-07-11 19:07:29</td>\n",
       "      <td>5.0</td>\n",
       "      <td>4.99</td>\n",
       "      <td>25.0</td>\n",
       "      <td>4.99</td>\n",
       "      <td>3 days 21:02:00</td>\n",
       "    </tr>\n",
       "  </tbody>\n",
       "</table>\n",
       "</div>"
      ],
      "text/plain": [
       "       customer_id  rental_id first_name last_name  \\\n",
       "5549           204    15415.0   ROSEMARY   SCHMIDT   \n",
       "14390          534    12691.0  CHRISTIAN      JUNG   \n",
       "10358          382    10327.0     VICTOR   BARKLEY   \n",
       "9835           364     1722.0   BENJAMIN    VARNEY   \n",
       "3961           146     6327.0      JAMIE      RICE   \n",
       "\n",
       "                                     email             title Category  \\\n",
       "5549   ROSEMARY.SCHMIDT@sakilacustomer.org         TRAP GUYS  Foreign   \n",
       "14390    CHRISTIAN.JUNG@sakilacustomer.org       SONG HEDWIG    Music   \n",
       "10358    VICTOR.BARKLEY@sakilacustomer.org    BINGO TALENTED   Sci-Fi   \n",
       "9835    BENJAMIN.VARNEY@sakilacustomer.org  INSTINCT AIRPORT   Sports   \n",
       "3961         JAMIE.RICE@sakilacustomer.org  DADDY PITTSBURGH   Comedy   \n",
       "\n",
       "              rental_date         return_date        payment_date  \\\n",
       "5549  2005-08-22 23:48:56 2005-09-01 02:05:56 2005-08-22 23:48:56   \n",
       "14390 2005-08-18 20:07:46 2005-08-26 18:49:46 2005-08-18 20:07:46   \n",
       "10358 2005-08-01 04:55:35 2005-08-07 08:17:35 2005-08-01 04:55:35   \n",
       "9835  2005-06-16 15:12:52 2005-06-19 13:01:52 2005-06-16 15:12:52   \n",
       "3961  2005-07-11 19:07:29 2005-07-15 16:09:29 2005-07-11 19:07:29   \n",
       "\n",
       "       rental_duration  amount  total_Amount  rental_rate  ProcessingDate  \n",
       "5549               3.0   11.99          36.0         4.99 9 days 02:17:00  \n",
       "14390              3.0    5.99          18.0         0.99 7 days 22:42:00  \n",
       "10358              5.0    3.99          20.0         2.99 6 days 03:22:00  \n",
       "9835               4.0    2.99          12.0         2.99 2 days 21:49:00  \n",
       "3961               5.0    4.99          25.0         4.99 3 days 21:02:00  "
      ]
     },
     "execution_count": 852,
     "metadata": {},
     "output_type": "execute_result"
    }
   ],
   "source": [
    "# Add New Column (Processing Day)\n",
    "\n",
    "tabel1['ProcessingDate'] = tabel1['return_date'] - tabel1['rental_date']  \n",
    "tabel1.sample(5)"
   ]
  },
  {
   "cell_type": "markdown",
   "metadata": {},
   "source": [
    "Unique Value 'ProcessingDate'\n",
    "\n",
    "setelah membuat sebuah kolom baru yang bernama ProcessingDate sebagaimana yang sudah didefinisikan sebelumnya, mari kita cek bagaimana data tersebut. Jika melihat dari preview output sebelumnya, tidak ada keanehan. Lantas bagaimana jika kita melihat lebih dalam ke dalam feature baru ini? Berikut ini penampakan hasil yang memperlihatkan unique values beserta jumlah data di setiap unique values-nya."
   ]
  },
  {
   "cell_type": "code",
   "execution_count": 853,
   "metadata": {},
   "outputs": [
    {
     "data": {
      "text/plain": [
       "9 days 03:15:00    10\n",
       "6 days 22:57:00    10\n",
       "4 days 18:40:00     9\n",
       "2 days 19:24:00     9\n",
       "5 days 00:38:00     9\n",
       "                   ..\n",
       "5 days 20:41:00     1\n",
       "4 days 18:51:00     1\n",
       "6 days 20:43:00     1\n",
       "4 days 04:58:00     1\n",
       "8 days 22:42:00     1\n",
       "Name: ProcessingDate, Length: 5892, dtype: int64"
      ]
     },
     "execution_count": 853,
     "metadata": {},
     "output_type": "execute_result"
    }
   ],
   "source": [
    "# Check Data Anomalies in Date Time Fomrat\n",
    "\n",
    "tabel1['ProcessingDate'].value_counts()"
   ]
  },
  {
   "cell_type": "markdown",
   "metadata": {},
   "source": [
    "Anomali Pada Processing Date\n",
    "\n",
    "Melihat output unique values beserta dengan banyaknya data di setiap unique values tersebut, tidak terdapat data yang menyimpang."
   ]
  },
  {
   "cell_type": "markdown",
   "metadata": {},
   "source": [
    "Preview Cleaned Data\n",
    "\n",
    "Setelah semua anomalies sudah diselesaikan, artinya data yang dimiliki sudah bersih. Di bawah ini adalah sample data yang dianggap sudah bersih setelah melewati proses-proses sebelumnya."
   ]
  },
  {
   "cell_type": "code",
   "execution_count": 854,
   "metadata": {},
   "outputs": [
    {
     "data": {
      "text/html": [
       "<div>\n",
       "<style scoped>\n",
       "    .dataframe tbody tr th:only-of-type {\n",
       "        vertical-align: middle;\n",
       "    }\n",
       "\n",
       "    .dataframe tbody tr th {\n",
       "        vertical-align: top;\n",
       "    }\n",
       "\n",
       "    .dataframe thead th {\n",
       "        text-align: right;\n",
       "    }\n",
       "</style>\n",
       "<table border=\"1\" class=\"dataframe\">\n",
       "  <thead>\n",
       "    <tr style=\"text-align: right;\">\n",
       "      <th></th>\n",
       "      <th>customer_id</th>\n",
       "      <th>rental_id</th>\n",
       "      <th>first_name</th>\n",
       "      <th>last_name</th>\n",
       "      <th>email</th>\n",
       "      <th>title</th>\n",
       "      <th>Category</th>\n",
       "      <th>rental_date</th>\n",
       "      <th>return_date</th>\n",
       "      <th>payment_date</th>\n",
       "      <th>rental_duration</th>\n",
       "      <th>amount</th>\n",
       "      <th>total_Amount</th>\n",
       "      <th>rental_rate</th>\n",
       "      <th>ProcessingDate</th>\n",
       "    </tr>\n",
       "  </thead>\n",
       "  <tbody>\n",
       "    <tr>\n",
       "      <th>3209</th>\n",
       "      <td>119</td>\n",
       "      <td>12603.0</td>\n",
       "      <td>SHERRY</td>\n",
       "      <td>MARSHALL</td>\n",
       "      <td>SHERRY.MARSHALL@sakilacustomer.org</td>\n",
       "      <td>MURDER ANTITRUST</td>\n",
       "      <td>Children</td>\n",
       "      <td>2005-08-18 16:56:20</td>\n",
       "      <td>2005-08-25 11:50:20</td>\n",
       "      <td>2005-08-18 16:56:20</td>\n",
       "      <td>6.0</td>\n",
       "      <td>3.99</td>\n",
       "      <td>23.9</td>\n",
       "      <td>2.99</td>\n",
       "      <td>6 days 18:54:00</td>\n",
       "    </tr>\n",
       "    <tr>\n",
       "      <th>7988</th>\n",
       "      <td>295</td>\n",
       "      <td>3496.0</td>\n",
       "      <td>DAISY</td>\n",
       "      <td>BATES</td>\n",
       "      <td>DAISY.BATES@sakilacustomer.org</td>\n",
       "      <td>LOSE INCH</td>\n",
       "      <td>Foreign</td>\n",
       "      <td>2005-07-05 23:59:15</td>\n",
       "      <td>2005-07-09 19:39:15</td>\n",
       "      <td>2005-07-05 23:59:15</td>\n",
       "      <td>3.0</td>\n",
       "      <td>1.99</td>\n",
       "      <td>6.0</td>\n",
       "      <td>0.99</td>\n",
       "      <td>3 days 19:40:00</td>\n",
       "    </tr>\n",
       "    <tr>\n",
       "      <th>5555</th>\n",
       "      <td>205</td>\n",
       "      <td>4230.0</td>\n",
       "      <td>EILEEN</td>\n",
       "      <td>CARR</td>\n",
       "      <td>EILEEN.CARR@sakilacustomer.org</td>\n",
       "      <td>BLACKOUT PRIVATE</td>\n",
       "      <td>Animation</td>\n",
       "      <td>2005-07-07 12:46:47</td>\n",
       "      <td>2005-07-15 06:52:47</td>\n",
       "      <td>2005-07-07 12:46:47</td>\n",
       "      <td>7.0</td>\n",
       "      <td>3.99</td>\n",
       "      <td>27.9</td>\n",
       "      <td>2.99</td>\n",
       "      <td>7 days 18:06:00</td>\n",
       "    </tr>\n",
       "    <tr>\n",
       "      <th>5148</th>\n",
       "      <td>190</td>\n",
       "      <td>430.0</td>\n",
       "      <td>YOLANDA</td>\n",
       "      <td>WEAVER</td>\n",
       "      <td>YOLANDA.WEAVER@sakilacustomer.org</td>\n",
       "      <td>HILLS NEIGHBORS</td>\n",
       "      <td>Action</td>\n",
       "      <td>2005-05-27 16:22:10</td>\n",
       "      <td>2005-06-05 13:10:10</td>\n",
       "      <td>2005-05-27 16:22:10</td>\n",
       "      <td>5.0</td>\n",
       "      <td>4.99</td>\n",
       "      <td>25.0</td>\n",
       "      <td>0.99</td>\n",
       "      <td>8 days 20:48:00</td>\n",
       "    </tr>\n",
       "    <tr>\n",
       "      <th>4275</th>\n",
       "      <td>157</td>\n",
       "      <td>8707.0</td>\n",
       "      <td>DARLENE</td>\n",
       "      <td>ROSE</td>\n",
       "      <td>DARLENE.ROSE@sakilacustomer.org</td>\n",
       "      <td>MALLRATS UNITED</td>\n",
       "      <td>Comedy</td>\n",
       "      <td>2005-07-29 17:21:58</td>\n",
       "      <td>2005-08-02 14:47:58</td>\n",
       "      <td>2005-07-29 17:21:58</td>\n",
       "      <td>4.0</td>\n",
       "      <td>0.99</td>\n",
       "      <td>4.0</td>\n",
       "      <td>0.99</td>\n",
       "      <td>3 days 21:26:00</td>\n",
       "    </tr>\n",
       "    <tr>\n",
       "      <th>3899</th>\n",
       "      <td>144</td>\n",
       "      <td>8983.0</td>\n",
       "      <td>CLARA</td>\n",
       "      <td>SHAW</td>\n",
       "      <td>CLARA.SHAW@sakilacustomer.org</td>\n",
       "      <td>HAUNTING PIANIST</td>\n",
       "      <td>Games</td>\n",
       "      <td>2005-07-30 04:31:08</td>\n",
       "      <td>2005-07-31 09:28:08</td>\n",
       "      <td>2005-07-30 04:31:08</td>\n",
       "      <td>5.0</td>\n",
       "      <td>0.99</td>\n",
       "      <td>5.0</td>\n",
       "      <td>0.99</td>\n",
       "      <td>1 days 04:57:00</td>\n",
       "    </tr>\n",
       "    <tr>\n",
       "      <th>1593</th>\n",
       "      <td>58</td>\n",
       "      <td>276.0</td>\n",
       "      <td>JEAN</td>\n",
       "      <td>BELL</td>\n",
       "      <td>JEAN.BELL@sakilacustomer.org</td>\n",
       "      <td>EASY GLADIATOR</td>\n",
       "      <td>Action</td>\n",
       "      <td>2005-05-26 17:16:07</td>\n",
       "      <td>2005-06-03 12:59:07</td>\n",
       "      <td>2005-05-26 17:16:07</td>\n",
       "      <td>5.0</td>\n",
       "      <td>7.99</td>\n",
       "      <td>40.0</td>\n",
       "      <td>4.99</td>\n",
       "      <td>7 days 19:43:00</td>\n",
       "    </tr>\n",
       "    <tr>\n",
       "      <th>1162</th>\n",
       "      <td>42</td>\n",
       "      <td>8095.0</td>\n",
       "      <td>CAROLYN</td>\n",
       "      <td>PEREZ</td>\n",
       "      <td>CAROLYN.PEREZ@sakilacustomer.org</td>\n",
       "      <td>MODERN DORADO</td>\n",
       "      <td>Documentary</td>\n",
       "      <td>2005-07-28 18:32:40</td>\n",
       "      <td>2005-08-06 23:45:40</td>\n",
       "      <td>2005-07-28 18:32:40</td>\n",
       "      <td>3.0</td>\n",
       "      <td>6.99</td>\n",
       "      <td>21.0</td>\n",
       "      <td>0.99</td>\n",
       "      <td>9 days 05:13:00</td>\n",
       "    </tr>\n",
       "    <tr>\n",
       "      <th>5494</th>\n",
       "      <td>202</td>\n",
       "      <td>15772.0</td>\n",
       "      <td>CARLA</td>\n",
       "      <td>GUTIERREZ</td>\n",
       "      <td>CARLA.GUTIERREZ@sakilacustomer.org</td>\n",
       "      <td>VIRTUAL SPOILERS</td>\n",
       "      <td>Family</td>\n",
       "      <td>2005-08-23 13:22:56</td>\n",
       "      <td>2005-08-26 10:35:56</td>\n",
       "      <td>2005-08-23 13:22:56</td>\n",
       "      <td>3.0</td>\n",
       "      <td>4.99</td>\n",
       "      <td>15.0</td>\n",
       "      <td>4.99</td>\n",
       "      <td>2 days 21:13:00</td>\n",
       "    </tr>\n",
       "    <tr>\n",
       "      <th>5059</th>\n",
       "      <td>186</td>\n",
       "      <td>11982.0</td>\n",
       "      <td>HOLLY</td>\n",
       "      <td>FOX</td>\n",
       "      <td>HOLLY.FOX@sakilacustomer.org</td>\n",
       "      <td>ANACONDA CONFESSIONS</td>\n",
       "      <td>Animation</td>\n",
       "      <td>2005-08-17 18:13:07</td>\n",
       "      <td>2005-08-18 19:06:07</td>\n",
       "      <td>2005-08-17 18:13:07</td>\n",
       "      <td>3.0</td>\n",
       "      <td>0.99</td>\n",
       "      <td>3.0</td>\n",
       "      <td>0.99</td>\n",
       "      <td>1 days 00:53:00</td>\n",
       "    </tr>\n",
       "    <tr>\n",
       "      <th>10794</th>\n",
       "      <td>399</td>\n",
       "      <td>6674.0</td>\n",
       "      <td>DANNY</td>\n",
       "      <td>ISOM</td>\n",
       "      <td>DANNY.ISOM@sakilacustomer.org</td>\n",
       "      <td>LIES TREATMENT</td>\n",
       "      <td>Drama</td>\n",
       "      <td>2005-07-12 11:51:54</td>\n",
       "      <td>2005-07-13 16:57:54</td>\n",
       "      <td>2005-07-12 11:51:54</td>\n",
       "      <td>7.0</td>\n",
       "      <td>4.99</td>\n",
       "      <td>34.9</td>\n",
       "      <td>4.99</td>\n",
       "      <td>1 days 05:06:00</td>\n",
       "    </tr>\n",
       "    <tr>\n",
       "      <th>3647</th>\n",
       "      <td>135</td>\n",
       "      <td>7437.0</td>\n",
       "      <td>JUANITA</td>\n",
       "      <td>MASON</td>\n",
       "      <td>JUANITA.MASON@sakilacustomer.org</td>\n",
       "      <td>MIDNIGHT WESTWARD</td>\n",
       "      <td>Action</td>\n",
       "      <td>2005-07-27 17:39:18</td>\n",
       "      <td>2005-07-28 18:33:18</td>\n",
       "      <td>2005-07-27 17:39:18</td>\n",
       "      <td>3.0</td>\n",
       "      <td>0.99</td>\n",
       "      <td>3.0</td>\n",
       "      <td>0.99</td>\n",
       "      <td>1 days 00:54:00</td>\n",
       "    </tr>\n",
       "    <tr>\n",
       "      <th>7540</th>\n",
       "      <td>278</td>\n",
       "      <td>10649.0</td>\n",
       "      <td>BILLIE</td>\n",
       "      <td>HORTON</td>\n",
       "      <td>BILLIE.HORTON@sakilacustomer.org</td>\n",
       "      <td>DINOSAUR SECRETARY</td>\n",
       "      <td>Family</td>\n",
       "      <td>2005-08-01 16:11:40</td>\n",
       "      <td>2005-08-06 14:09:40</td>\n",
       "      <td>2005-08-01 16:11:40</td>\n",
       "      <td>7.0</td>\n",
       "      <td>2.99</td>\n",
       "      <td>20.9</td>\n",
       "      <td>2.99</td>\n",
       "      <td>4 days 21:58:00</td>\n",
       "    </tr>\n",
       "    <tr>\n",
       "      <th>6500</th>\n",
       "      <td>241</td>\n",
       "      <td>1059.0</td>\n",
       "      <td>HEIDI</td>\n",
       "      <td>LARSON</td>\n",
       "      <td>HEIDI.LARSON@sakilacustomer.org</td>\n",
       "      <td>PEACH INNOCENT</td>\n",
       "      <td>Sports</td>\n",
       "      <td>2005-05-31 08:20:43</td>\n",
       "      <td>2005-06-04 09:05:43</td>\n",
       "      <td>2005-05-31 08:20:43</td>\n",
       "      <td>3.0</td>\n",
       "      <td>3.99</td>\n",
       "      <td>12.0</td>\n",
       "      <td>2.99</td>\n",
       "      <td>4 days 00:45:00</td>\n",
       "    </tr>\n",
       "    <tr>\n",
       "      <th>4212</th>\n",
       "      <td>155</td>\n",
       "      <td>1554.0</td>\n",
       "      <td>GAIL</td>\n",
       "      <td>KNIGHT</td>\n",
       "      <td>GAIL.KNIGHT@sakilacustomer.org</td>\n",
       "      <td>CLERKS ANGELS</td>\n",
       "      <td>Documentary</td>\n",
       "      <td>2005-06-16 02:16:47</td>\n",
       "      <td>2005-06-22 05:15:47</td>\n",
       "      <td>2005-06-16 02:16:47</td>\n",
       "      <td>3.0</td>\n",
       "      <td>7.99</td>\n",
       "      <td>24.0</td>\n",
       "      <td>4.99</td>\n",
       "      <td>6 days 02:59:00</td>\n",
       "    </tr>\n",
       "    <tr>\n",
       "      <th>12061</th>\n",
       "      <td>447</td>\n",
       "      <td>4403.0</td>\n",
       "      <td>CLIFFORD</td>\n",
       "      <td>BOWENS</td>\n",
       "      <td>CLIFFORD.BOWENS@sakilacustomer.org</td>\n",
       "      <td>SUNRISE LEAGUE</td>\n",
       "      <td>Animation</td>\n",
       "      <td>2005-07-07 21:29:40</td>\n",
       "      <td>2005-07-09 17:58:40</td>\n",
       "      <td>2005-07-07 21:29:40</td>\n",
       "      <td>3.0</td>\n",
       "      <td>4.99</td>\n",
       "      <td>15.0</td>\n",
       "      <td>4.99</td>\n",
       "      <td>1 days 20:29:00</td>\n",
       "    </tr>\n",
       "    <tr>\n",
       "      <th>4762</th>\n",
       "      <td>176</td>\n",
       "      <td>172.0</td>\n",
       "      <td>JUNE</td>\n",
       "      <td>CARROLL</td>\n",
       "      <td>JUNE.CARROLL@sakilacustomer.org</td>\n",
       "      <td>NOTTING SPEAKEASY</td>\n",
       "      <td>Drama</td>\n",
       "      <td>2005-05-26 03:17:42</td>\n",
       "      <td>2005-05-29 04:11:42</td>\n",
       "      <td>2005-05-26 03:17:42</td>\n",
       "      <td>7.0</td>\n",
       "      <td>0.99</td>\n",
       "      <td>6.9</td>\n",
       "      <td>0.99</td>\n",
       "      <td>3 days 00:54:00</td>\n",
       "    </tr>\n",
       "    <tr>\n",
       "      <th>7322</th>\n",
       "      <td>270</td>\n",
       "      <td>11917.0</td>\n",
       "      <td>LEAH</td>\n",
       "      <td>CURTIS</td>\n",
       "      <td>LEAH.CURTIS@sakilacustomer.org</td>\n",
       "      <td>GASLIGHT CRUSADE</td>\n",
       "      <td>Horror</td>\n",
       "      <td>2005-08-17 16:08:17</td>\n",
       "      <td>2005-08-20 20:01:17</td>\n",
       "      <td>2005-08-17 16:08:17</td>\n",
       "      <td>4.0</td>\n",
       "      <td>2.99</td>\n",
       "      <td>12.0</td>\n",
       "      <td>2.99</td>\n",
       "      <td>3 days 03:53:00</td>\n",
       "    </tr>\n",
       "    <tr>\n",
       "      <th>9263</th>\n",
       "      <td>342</td>\n",
       "      <td>13827.0</td>\n",
       "      <td>HAROLD</td>\n",
       "      <td>MARTINO</td>\n",
       "      <td>HAROLD.MARTINO@sakilacustomer.org</td>\n",
       "      <td>DOUBLE WRATH</td>\n",
       "      <td>Animation</td>\n",
       "      <td>2005-08-20 13:47:19</td>\n",
       "      <td>2005-08-28 09:13:19</td>\n",
       "      <td>2005-08-20 13:47:19</td>\n",
       "      <td>4.0</td>\n",
       "      <td>4.99</td>\n",
       "      <td>20.0</td>\n",
       "      <td>0.99</td>\n",
       "      <td>7 days 19:26:00</td>\n",
       "    </tr>\n",
       "    <tr>\n",
       "      <th>13347</th>\n",
       "      <td>495</td>\n",
       "      <td>10783.0</td>\n",
       "      <td>CHARLIE</td>\n",
       "      <td>BESS</td>\n",
       "      <td>CHARLIE.BESS@sakilacustomer.org</td>\n",
       "      <td>DYNAMITE TARZAN</td>\n",
       "      <td>Classics</td>\n",
       "      <td>2005-08-01 21:23:37</td>\n",
       "      <td>2005-08-09 20:18:37</td>\n",
       "      <td>2005-08-01 21:23:37</td>\n",
       "      <td>4.0</td>\n",
       "      <td>4.99</td>\n",
       "      <td>20.0</td>\n",
       "      <td>0.99</td>\n",
       "      <td>7 days 22:55:00</td>\n",
       "    </tr>\n",
       "  </tbody>\n",
       "</table>\n",
       "</div>"
      ],
      "text/plain": [
       "       customer_id  rental_id first_name  last_name  \\\n",
       "3209           119    12603.0     SHERRY   MARSHALL   \n",
       "7988           295     3496.0      DAISY      BATES   \n",
       "5555           205     4230.0     EILEEN       CARR   \n",
       "5148           190      430.0    YOLANDA     WEAVER   \n",
       "4275           157     8707.0    DARLENE       ROSE   \n",
       "3899           144     8983.0      CLARA       SHAW   \n",
       "1593            58      276.0       JEAN       BELL   \n",
       "1162            42     8095.0    CAROLYN      PEREZ   \n",
       "5494           202    15772.0      CARLA  GUTIERREZ   \n",
       "5059           186    11982.0      HOLLY        FOX   \n",
       "10794          399     6674.0      DANNY       ISOM   \n",
       "3647           135     7437.0    JUANITA      MASON   \n",
       "7540           278    10649.0     BILLIE     HORTON   \n",
       "6500           241     1059.0      HEIDI     LARSON   \n",
       "4212           155     1554.0       GAIL     KNIGHT   \n",
       "12061          447     4403.0   CLIFFORD     BOWENS   \n",
       "4762           176      172.0       JUNE    CARROLL   \n",
       "7322           270    11917.0       LEAH     CURTIS   \n",
       "9263           342    13827.0     HAROLD    MARTINO   \n",
       "13347          495    10783.0    CHARLIE       BESS   \n",
       "\n",
       "                                    email                 title     Category  \\\n",
       "3209   SHERRY.MARSHALL@sakilacustomer.org      MURDER ANTITRUST     Children   \n",
       "7988       DAISY.BATES@sakilacustomer.org             LOSE INCH      Foreign   \n",
       "5555       EILEEN.CARR@sakilacustomer.org      BLACKOUT PRIVATE    Animation   \n",
       "5148    YOLANDA.WEAVER@sakilacustomer.org       HILLS NEIGHBORS       Action   \n",
       "4275      DARLENE.ROSE@sakilacustomer.org       MALLRATS UNITED       Comedy   \n",
       "3899        CLARA.SHAW@sakilacustomer.org      HAUNTING PIANIST        Games   \n",
       "1593         JEAN.BELL@sakilacustomer.org        EASY GLADIATOR       Action   \n",
       "1162     CAROLYN.PEREZ@sakilacustomer.org         MODERN DORADO  Documentary   \n",
       "5494   CARLA.GUTIERREZ@sakilacustomer.org      VIRTUAL SPOILERS       Family   \n",
       "5059         HOLLY.FOX@sakilacustomer.org  ANACONDA CONFESSIONS    Animation   \n",
       "10794       DANNY.ISOM@sakilacustomer.org        LIES TREATMENT        Drama   \n",
       "3647     JUANITA.MASON@sakilacustomer.org     MIDNIGHT WESTWARD       Action   \n",
       "7540     BILLIE.HORTON@sakilacustomer.org    DINOSAUR SECRETARY       Family   \n",
       "6500      HEIDI.LARSON@sakilacustomer.org        PEACH INNOCENT       Sports   \n",
       "4212       GAIL.KNIGHT@sakilacustomer.org         CLERKS ANGELS  Documentary   \n",
       "12061  CLIFFORD.BOWENS@sakilacustomer.org        SUNRISE LEAGUE    Animation   \n",
       "4762      JUNE.CARROLL@sakilacustomer.org     NOTTING SPEAKEASY        Drama   \n",
       "7322       LEAH.CURTIS@sakilacustomer.org      GASLIGHT CRUSADE       Horror   \n",
       "9263    HAROLD.MARTINO@sakilacustomer.org          DOUBLE WRATH    Animation   \n",
       "13347     CHARLIE.BESS@sakilacustomer.org       DYNAMITE TARZAN     Classics   \n",
       "\n",
       "              rental_date         return_date        payment_date  \\\n",
       "3209  2005-08-18 16:56:20 2005-08-25 11:50:20 2005-08-18 16:56:20   \n",
       "7988  2005-07-05 23:59:15 2005-07-09 19:39:15 2005-07-05 23:59:15   \n",
       "5555  2005-07-07 12:46:47 2005-07-15 06:52:47 2005-07-07 12:46:47   \n",
       "5148  2005-05-27 16:22:10 2005-06-05 13:10:10 2005-05-27 16:22:10   \n",
       "4275  2005-07-29 17:21:58 2005-08-02 14:47:58 2005-07-29 17:21:58   \n",
       "3899  2005-07-30 04:31:08 2005-07-31 09:28:08 2005-07-30 04:31:08   \n",
       "1593  2005-05-26 17:16:07 2005-06-03 12:59:07 2005-05-26 17:16:07   \n",
       "1162  2005-07-28 18:32:40 2005-08-06 23:45:40 2005-07-28 18:32:40   \n",
       "5494  2005-08-23 13:22:56 2005-08-26 10:35:56 2005-08-23 13:22:56   \n",
       "5059  2005-08-17 18:13:07 2005-08-18 19:06:07 2005-08-17 18:13:07   \n",
       "10794 2005-07-12 11:51:54 2005-07-13 16:57:54 2005-07-12 11:51:54   \n",
       "3647  2005-07-27 17:39:18 2005-07-28 18:33:18 2005-07-27 17:39:18   \n",
       "7540  2005-08-01 16:11:40 2005-08-06 14:09:40 2005-08-01 16:11:40   \n",
       "6500  2005-05-31 08:20:43 2005-06-04 09:05:43 2005-05-31 08:20:43   \n",
       "4212  2005-06-16 02:16:47 2005-06-22 05:15:47 2005-06-16 02:16:47   \n",
       "12061 2005-07-07 21:29:40 2005-07-09 17:58:40 2005-07-07 21:29:40   \n",
       "4762  2005-05-26 03:17:42 2005-05-29 04:11:42 2005-05-26 03:17:42   \n",
       "7322  2005-08-17 16:08:17 2005-08-20 20:01:17 2005-08-17 16:08:17   \n",
       "9263  2005-08-20 13:47:19 2005-08-28 09:13:19 2005-08-20 13:47:19   \n",
       "13347 2005-08-01 21:23:37 2005-08-09 20:18:37 2005-08-01 21:23:37   \n",
       "\n",
       "       rental_duration  amount  total_Amount  rental_rate  ProcessingDate  \n",
       "3209               6.0    3.99          23.9         2.99 6 days 18:54:00  \n",
       "7988               3.0    1.99           6.0         0.99 3 days 19:40:00  \n",
       "5555               7.0    3.99          27.9         2.99 7 days 18:06:00  \n",
       "5148               5.0    4.99          25.0         0.99 8 days 20:48:00  \n",
       "4275               4.0    0.99           4.0         0.99 3 days 21:26:00  \n",
       "3899               5.0    0.99           5.0         0.99 1 days 04:57:00  \n",
       "1593               5.0    7.99          40.0         4.99 7 days 19:43:00  \n",
       "1162               3.0    6.99          21.0         0.99 9 days 05:13:00  \n",
       "5494               3.0    4.99          15.0         4.99 2 days 21:13:00  \n",
       "5059               3.0    0.99           3.0         0.99 1 days 00:53:00  \n",
       "10794              7.0    4.99          34.9         4.99 1 days 05:06:00  \n",
       "3647               3.0    0.99           3.0         0.99 1 days 00:54:00  \n",
       "7540               7.0    2.99          20.9         2.99 4 days 21:58:00  \n",
       "6500               3.0    3.99          12.0         2.99 4 days 00:45:00  \n",
       "4212               3.0    7.99          24.0         4.99 6 days 02:59:00  \n",
       "12061              3.0    4.99          15.0         4.99 1 days 20:29:00  \n",
       "4762               7.0    0.99           6.9         0.99 3 days 00:54:00  \n",
       "7322               4.0    2.99          12.0         2.99 3 days 03:53:00  \n",
       "9263               4.0    4.99          20.0         0.99 7 days 19:26:00  \n",
       "13347              4.0    4.99          20.0         0.99 7 days 22:55:00  "
      ]
     },
     "execution_count": 854,
     "metadata": {},
     "output_type": "execute_result"
    }
   ],
   "source": [
    "# Clean Data\n",
    "\n",
    "tabel1.sample(20)"
   ]
  },
  {
   "cell_type": "markdown",
   "metadata": {},
   "source": [
    "General Info Cleaned Data"
   ]
  },
  {
   "cell_type": "code",
   "execution_count": 855,
   "metadata": {},
   "outputs": [
    {
     "data": {
      "text/html": [
       "<div>\n",
       "<style scoped>\n",
       "    .dataframe tbody tr th:only-of-type {\n",
       "        vertical-align: middle;\n",
       "    }\n",
       "\n",
       "    .dataframe tbody tr th {\n",
       "        vertical-align: top;\n",
       "    }\n",
       "\n",
       "    .dataframe thead th {\n",
       "        text-align: right;\n",
       "    }\n",
       "</style>\n",
       "<table border=\"1\" class=\"dataframe\">\n",
       "  <thead>\n",
       "    <tr style=\"text-align: right;\">\n",
       "      <th></th>\n",
       "      <th>Features</th>\n",
       "      <th>dataType</th>\n",
       "      <th>Data Count</th>\n",
       "      <th>Missing Value</th>\n",
       "      <th>Missing Value Percentage</th>\n",
       "      <th>Number of unique</th>\n",
       "      <th>uniqueSample</th>\n",
       "    </tr>\n",
       "  </thead>\n",
       "  <tbody>\n",
       "    <tr>\n",
       "      <th>0</th>\n",
       "      <td>customer_id</td>\n",
       "      <td>int64</td>\n",
       "      <td>15861</td>\n",
       "      <td>0</td>\n",
       "      <td>0.0</td>\n",
       "      <td>599</td>\n",
       "      <td>[320, 204]</td>\n",
       "    </tr>\n",
       "    <tr>\n",
       "      <th>1</th>\n",
       "      <td>rental_id</td>\n",
       "      <td>float64</td>\n",
       "      <td>15861</td>\n",
       "      <td>0</td>\n",
       "      <td>0.0</td>\n",
       "      <td>15861</td>\n",
       "      <td>[6333.0, 4525.0]</td>\n",
       "    </tr>\n",
       "    <tr>\n",
       "      <th>2</th>\n",
       "      <td>first_name</td>\n",
       "      <td>object</td>\n",
       "      <td>15861</td>\n",
       "      <td>0</td>\n",
       "      <td>0.0</td>\n",
       "      <td>591</td>\n",
       "      <td>[JOANNE, COLLEEN]</td>\n",
       "    </tr>\n",
       "    <tr>\n",
       "      <th>3</th>\n",
       "      <td>last_name</td>\n",
       "      <td>object</td>\n",
       "      <td>15861</td>\n",
       "      <td>0</td>\n",
       "      <td>0.0</td>\n",
       "      <td>599</td>\n",
       "      <td>[SATTERFIELD, ROBERTS]</td>\n",
       "    </tr>\n",
       "    <tr>\n",
       "      <th>4</th>\n",
       "      <td>email</td>\n",
       "      <td>object</td>\n",
       "      <td>15861</td>\n",
       "      <td>0</td>\n",
       "      <td>0.0</td>\n",
       "      <td>599</td>\n",
       "      <td>[DENNIS.GILMAN@sakilacustomer.org, DOROTHY.TAY...</td>\n",
       "    </tr>\n",
       "    <tr>\n",
       "      <th>5</th>\n",
       "      <td>title</td>\n",
       "      <td>object</td>\n",
       "      <td>15861</td>\n",
       "      <td>0</td>\n",
       "      <td>0.0</td>\n",
       "      <td>958</td>\n",
       "      <td>[LIBERTY MAGNIFICENT, SUMMER SCARFACE]</td>\n",
       "    </tr>\n",
       "    <tr>\n",
       "      <th>6</th>\n",
       "      <td>Category</td>\n",
       "      <td>object</td>\n",
       "      <td>15861</td>\n",
       "      <td>0</td>\n",
       "      <td>0.0</td>\n",
       "      <td>16</td>\n",
       "      <td>[Sci-Fi, Music]</td>\n",
       "    </tr>\n",
       "    <tr>\n",
       "      <th>7</th>\n",
       "      <td>rental_date</td>\n",
       "      <td>datetime64[ns]</td>\n",
       "      <td>15861</td>\n",
       "      <td>0</td>\n",
       "      <td>0.0</td>\n",
       "      <td>15813</td>\n",
       "      <td>[2005-07-06T09:02:09.000000000, 2005-08-22T08:...</td>\n",
       "    </tr>\n",
       "    <tr>\n",
       "      <th>8</th>\n",
       "      <td>return_date</td>\n",
       "      <td>datetime64[ns]</td>\n",
       "      <td>15861</td>\n",
       "      <td>0</td>\n",
       "      <td>0.0</td>\n",
       "      <td>15836</td>\n",
       "      <td>[2005-06-29T17:17:14.000000000, 2005-06-21T21:...</td>\n",
       "    </tr>\n",
       "    <tr>\n",
       "      <th>9</th>\n",
       "      <td>payment_date</td>\n",
       "      <td>datetime64[ns]</td>\n",
       "      <td>15861</td>\n",
       "      <td>0</td>\n",
       "      <td>0.0</td>\n",
       "      <td>15813</td>\n",
       "      <td>[2005-07-31T03:35:34.000000000, 2005-07-12T13:...</td>\n",
       "    </tr>\n",
       "    <tr>\n",
       "      <th>10</th>\n",
       "      <td>rental_duration</td>\n",
       "      <td>float64</td>\n",
       "      <td>15861</td>\n",
       "      <td>0</td>\n",
       "      <td>0.0</td>\n",
       "      <td>5</td>\n",
       "      <td>[4.0, 7.0]</td>\n",
       "    </tr>\n",
       "    <tr>\n",
       "      <th>11</th>\n",
       "      <td>amount</td>\n",
       "      <td>float64</td>\n",
       "      <td>15861</td>\n",
       "      <td>0</td>\n",
       "      <td>0.0</td>\n",
       "      <td>12</td>\n",
       "      <td>[10.99, 3.99]</td>\n",
       "    </tr>\n",
       "    <tr>\n",
       "      <th>12</th>\n",
       "      <td>total_Amount</td>\n",
       "      <td>float64</td>\n",
       "      <td>15861</td>\n",
       "      <td>0</td>\n",
       "      <td>0.0</td>\n",
       "      <td>42</td>\n",
       "      <td>[45.0, 27.9]</td>\n",
       "    </tr>\n",
       "    <tr>\n",
       "      <th>13</th>\n",
       "      <td>rental_rate</td>\n",
       "      <td>float64</td>\n",
       "      <td>15861</td>\n",
       "      <td>0</td>\n",
       "      <td>0.0</td>\n",
       "      <td>3</td>\n",
       "      <td>[2.99, 0.99]</td>\n",
       "    </tr>\n",
       "    <tr>\n",
       "      <th>14</th>\n",
       "      <td>ProcessingDate</td>\n",
       "      <td>timedelta64[ns]</td>\n",
       "      <td>15861</td>\n",
       "      <td>0</td>\n",
       "      <td>0.0</td>\n",
       "      <td>5892</td>\n",
       "      <td>[518340000000000 nanoseconds, 176100000000000 ...</td>\n",
       "    </tr>\n",
       "  </tbody>\n",
       "</table>\n",
       "</div>"
      ],
      "text/plain": [
       "           Features         dataType  Data Count  Missing Value  \\\n",
       "0       customer_id            int64       15861              0   \n",
       "1         rental_id          float64       15861              0   \n",
       "2        first_name           object       15861              0   \n",
       "3         last_name           object       15861              0   \n",
       "4             email           object       15861              0   \n",
       "5             title           object       15861              0   \n",
       "6          Category           object       15861              0   \n",
       "7       rental_date   datetime64[ns]       15861              0   \n",
       "8       return_date   datetime64[ns]       15861              0   \n",
       "9      payment_date   datetime64[ns]       15861              0   \n",
       "10  rental_duration          float64       15861              0   \n",
       "11           amount          float64       15861              0   \n",
       "12     total_Amount          float64       15861              0   \n",
       "13      rental_rate          float64       15861              0   \n",
       "14   ProcessingDate  timedelta64[ns]       15861              0   \n",
       "\n",
       "    Missing Value Percentage  Number of unique  \\\n",
       "0                        0.0               599   \n",
       "1                        0.0             15861   \n",
       "2                        0.0               591   \n",
       "3                        0.0               599   \n",
       "4                        0.0               599   \n",
       "5                        0.0               958   \n",
       "6                        0.0                16   \n",
       "7                        0.0             15813   \n",
       "8                        0.0             15836   \n",
       "9                        0.0             15813   \n",
       "10                       0.0                 5   \n",
       "11                       0.0                12   \n",
       "12                       0.0                42   \n",
       "13                       0.0                 3   \n",
       "14                       0.0              5892   \n",
       "\n",
       "                                         uniqueSample  \n",
       "0                                          [320, 204]  \n",
       "1                                    [6333.0, 4525.0]  \n",
       "2                                   [JOANNE, COLLEEN]  \n",
       "3                              [SATTERFIELD, ROBERTS]  \n",
       "4   [DENNIS.GILMAN@sakilacustomer.org, DOROTHY.TAY...  \n",
       "5              [LIBERTY MAGNIFICENT, SUMMER SCARFACE]  \n",
       "6                                     [Sci-Fi, Music]  \n",
       "7   [2005-07-06T09:02:09.000000000, 2005-08-22T08:...  \n",
       "8   [2005-06-29T17:17:14.000000000, 2005-06-21T21:...  \n",
       "9   [2005-07-31T03:35:34.000000000, 2005-07-12T13:...  \n",
       "10                                         [4.0, 7.0]  \n",
       "11                                      [10.99, 3.99]  \n",
       "12                                       [45.0, 27.9]  \n",
       "13                                       [2.99, 0.99]  \n",
       "14  [518340000000000 nanoseconds, 176100000000000 ...  "
      ]
     },
     "execution_count": 855,
     "metadata": {},
     "output_type": "execute_result"
    }
   ],
   "source": [
    "# Check Some Info\n",
    "\n",
    "dfbaru = []\n",
    "for i in tabel1.columns :\n",
    "    dfbaru.append([i, tabel1[i].dtype, len(tabel1),tabel1[i].isna().sum(), round((tabel1[i].isna().sum()/len(tabel1[i])) * 100,2),\n",
    "                   tabel1[i].nunique(), tabel1[i].drop_duplicates().sample(2).values])\n",
    "pd.DataFrame(dfbaru, columns= ['Features', 'dataType','Data Count','Missing Value', 'Missing Value Percentage','Number of unique','uniqueSample'])"
   ]
  },
  {
   "cell_type": "markdown",
   "metadata": {},
   "source": [
    "Category Film berdasarkan total Rental Rate"
   ]
  },
  {
   "cell_type": "code",
   "execution_count": 856,
   "metadata": {},
   "outputs": [
    {
     "data": {
      "text/html": [
       "<div>\n",
       "<style scoped>\n",
       "    .dataframe tbody tr th:only-of-type {\n",
       "        vertical-align: middle;\n",
       "    }\n",
       "\n",
       "    .dataframe tbody tr th {\n",
       "        vertical-align: top;\n",
       "    }\n",
       "\n",
       "    .dataframe thead tr th {\n",
       "        text-align: left;\n",
       "    }\n",
       "\n",
       "    .dataframe thead tr:last-of-type th {\n",
       "        text-align: right;\n",
       "    }\n",
       "</style>\n",
       "<table border=\"1\" class=\"dataframe\">\n",
       "  <thead>\n",
       "    <tr>\n",
       "      <th></th>\n",
       "      <th colspan=\"8\" halign=\"left\">rental_rate</th>\n",
       "    </tr>\n",
       "    <tr>\n",
       "      <th></th>\n",
       "      <th>count</th>\n",
       "      <th>mean</th>\n",
       "      <th>std</th>\n",
       "      <th>min</th>\n",
       "      <th>25%</th>\n",
       "      <th>50%</th>\n",
       "      <th>75%</th>\n",
       "      <th>max</th>\n",
       "    </tr>\n",
       "    <tr>\n",
       "      <th>Category</th>\n",
       "      <th></th>\n",
       "      <th></th>\n",
       "      <th></th>\n",
       "      <th></th>\n",
       "      <th></th>\n",
       "      <th></th>\n",
       "      <th></th>\n",
       "      <th></th>\n",
       "    </tr>\n",
       "  </thead>\n",
       "  <tbody>\n",
       "    <tr>\n",
       "      <th>Action</th>\n",
       "      <td>1095.0</td>\n",
       "      <td>2.670365</td>\n",
       "      <td>1.665909</td>\n",
       "      <td>0.99</td>\n",
       "      <td>0.99</td>\n",
       "      <td>2.99</td>\n",
       "      <td>4.99</td>\n",
       "      <td>4.99</td>\n",
       "    </tr>\n",
       "    <tr>\n",
       "      <th>Animation</th>\n",
       "      <td>1145.0</td>\n",
       "      <td>2.755939</td>\n",
       "      <td>1.580384</td>\n",
       "      <td>0.99</td>\n",
       "      <td>0.99</td>\n",
       "      <td>2.99</td>\n",
       "      <td>4.99</td>\n",
       "      <td>4.99</td>\n",
       "    </tr>\n",
       "    <tr>\n",
       "      <th>Children</th>\n",
       "      <td>939.0</td>\n",
       "      <td>2.689681</td>\n",
       "      <td>1.528447</td>\n",
       "      <td>0.99</td>\n",
       "      <td>0.99</td>\n",
       "      <td>2.99</td>\n",
       "      <td>2.99</td>\n",
       "      <td>4.99</td>\n",
       "    </tr>\n",
       "    <tr>\n",
       "      <th>Classics</th>\n",
       "      <td>930.0</td>\n",
       "      <td>2.643763</td>\n",
       "      <td>1.589968</td>\n",
       "      <td>0.99</td>\n",
       "      <td>0.99</td>\n",
       "      <td>2.99</td>\n",
       "      <td>2.99</td>\n",
       "      <td>4.99</td>\n",
       "    </tr>\n",
       "    <tr>\n",
       "      <th>Comedy</th>\n",
       "      <td>932.0</td>\n",
       "      <td>3.288283</td>\n",
       "      <td>1.584389</td>\n",
       "      <td>0.99</td>\n",
       "      <td>2.49</td>\n",
       "      <td>2.99</td>\n",
       "      <td>4.99</td>\n",
       "      <td>4.99</td>\n",
       "    </tr>\n",
       "    <tr>\n",
       "      <th>Documentary</th>\n",
       "      <td>1043.0</td>\n",
       "      <td>2.621831</td>\n",
       "      <td>1.632980</td>\n",
       "      <td>0.99</td>\n",
       "      <td>0.99</td>\n",
       "      <td>2.99</td>\n",
       "      <td>4.99</td>\n",
       "      <td>4.99</td>\n",
       "    </tr>\n",
       "    <tr>\n",
       "      <th>Drama</th>\n",
       "      <td>1053.0</td>\n",
       "      <td>3.176135</td>\n",
       "      <td>1.798689</td>\n",
       "      <td>0.99</td>\n",
       "      <td>0.99</td>\n",
       "      <td>2.99</td>\n",
       "      <td>4.99</td>\n",
       "      <td>4.99</td>\n",
       "    </tr>\n",
       "    <tr>\n",
       "      <th>Family</th>\n",
       "      <td>1083.0</td>\n",
       "      <td>2.692678</td>\n",
       "      <td>1.582092</td>\n",
       "      <td>0.99</td>\n",
       "      <td>0.99</td>\n",
       "      <td>2.99</td>\n",
       "      <td>2.99</td>\n",
       "      <td>4.99</td>\n",
       "    </tr>\n",
       "    <tr>\n",
       "      <th>Foreign</th>\n",
       "      <td>1022.0</td>\n",
       "      <td>2.958689</td>\n",
       "      <td>1.650987</td>\n",
       "      <td>0.99</td>\n",
       "      <td>0.99</td>\n",
       "      <td>2.99</td>\n",
       "      <td>4.99</td>\n",
       "      <td>4.99</td>\n",
       "    </tr>\n",
       "    <tr>\n",
       "      <th>Games</th>\n",
       "      <td>955.0</td>\n",
       "      <td>3.130314</td>\n",
       "      <td>1.754658</td>\n",
       "      <td>0.99</td>\n",
       "      <td>0.99</td>\n",
       "      <td>2.99</td>\n",
       "      <td>4.99</td>\n",
       "      <td>4.99</td>\n",
       "    </tr>\n",
       "    <tr>\n",
       "      <th>Horror</th>\n",
       "      <td>834.0</td>\n",
       "      <td>3.107506</td>\n",
       "      <td>1.683364</td>\n",
       "      <td>0.99</td>\n",
       "      <td>0.99</td>\n",
       "      <td>2.99</td>\n",
       "      <td>4.99</td>\n",
       "      <td>4.99</td>\n",
       "    </tr>\n",
       "    <tr>\n",
       "      <th>Music</th>\n",
       "      <td>819.0</td>\n",
       "      <td>3.068144</td>\n",
       "      <td>1.713958</td>\n",
       "      <td>0.99</td>\n",
       "      <td>0.99</td>\n",
       "      <td>2.99</td>\n",
       "      <td>4.99</td>\n",
       "      <td>4.99</td>\n",
       "    </tr>\n",
       "    <tr>\n",
       "      <th>New</th>\n",
       "      <td>927.0</td>\n",
       "      <td>3.100032</td>\n",
       "      <td>1.634131</td>\n",
       "      <td>0.99</td>\n",
       "      <td>0.99</td>\n",
       "      <td>2.99</td>\n",
       "      <td>4.99</td>\n",
       "      <td>4.99</td>\n",
       "    </tr>\n",
       "    <tr>\n",
       "      <th>Sci-Fi</th>\n",
       "      <td>1093.0</td>\n",
       "      <td>2.986340</td>\n",
       "      <td>1.521514</td>\n",
       "      <td>0.99</td>\n",
       "      <td>0.99</td>\n",
       "      <td>2.99</td>\n",
       "      <td>4.99</td>\n",
       "      <td>4.99</td>\n",
       "    </tr>\n",
       "    <tr>\n",
       "      <th>Sports</th>\n",
       "      <td>1164.0</td>\n",
       "      <td>3.070756</td>\n",
       "      <td>1.636957</td>\n",
       "      <td>0.99</td>\n",
       "      <td>0.99</td>\n",
       "      <td>2.99</td>\n",
       "      <td>4.99</td>\n",
       "      <td>4.99</td>\n",
       "    </tr>\n",
       "    <tr>\n",
       "      <th>Travel</th>\n",
       "      <td>827.0</td>\n",
       "      <td>3.316481</td>\n",
       "      <td>1.582230</td>\n",
       "      <td>0.99</td>\n",
       "      <td>2.99</td>\n",
       "      <td>2.99</td>\n",
       "      <td>4.99</td>\n",
       "      <td>4.99</td>\n",
       "    </tr>\n",
       "  </tbody>\n",
       "</table>\n",
       "</div>"
      ],
      "text/plain": [
       "            rental_rate                                                  \n",
       "                  count      mean       std   min   25%   50%   75%   max\n",
       "Category                                                                 \n",
       "Action           1095.0  2.670365  1.665909  0.99  0.99  2.99  4.99  4.99\n",
       "Animation        1145.0  2.755939  1.580384  0.99  0.99  2.99  4.99  4.99\n",
       "Children          939.0  2.689681  1.528447  0.99  0.99  2.99  2.99  4.99\n",
       "Classics          930.0  2.643763  1.589968  0.99  0.99  2.99  2.99  4.99\n",
       "Comedy            932.0  3.288283  1.584389  0.99  2.49  2.99  4.99  4.99\n",
       "Documentary      1043.0  2.621831  1.632980  0.99  0.99  2.99  4.99  4.99\n",
       "Drama            1053.0  3.176135  1.798689  0.99  0.99  2.99  4.99  4.99\n",
       "Family           1083.0  2.692678  1.582092  0.99  0.99  2.99  2.99  4.99\n",
       "Foreign          1022.0  2.958689  1.650987  0.99  0.99  2.99  4.99  4.99\n",
       "Games             955.0  3.130314  1.754658  0.99  0.99  2.99  4.99  4.99\n",
       "Horror            834.0  3.107506  1.683364  0.99  0.99  2.99  4.99  4.99\n",
       "Music             819.0  3.068144  1.713958  0.99  0.99  2.99  4.99  4.99\n",
       "New               927.0  3.100032  1.634131  0.99  0.99  2.99  4.99  4.99\n",
       "Sci-Fi           1093.0  2.986340  1.521514  0.99  0.99  2.99  4.99  4.99\n",
       "Sports           1164.0  3.070756  1.636957  0.99  0.99  2.99  4.99  4.99\n",
       "Travel            827.0  3.316481  1.582230  0.99  2.99  2.99  4.99  4.99"
      ]
     },
     "execution_count": 856,
     "metadata": {},
     "output_type": "execute_result"
    }
   ],
   "source": [
    "# Groupping and Aggregating\n",
    "\n",
    "tabel1[['rental_rate','Category']].groupby('Category').describe()"
   ]
  },
  {
   "cell_type": "markdown",
   "metadata": {},
   "source": [
    "Terdapat sebuah feature yang bernama 'Category' pada dataset. Feature ini merupakan daftar Category Film rental dvd dari transaksi yang ada pada database. Category sendiri memiliki 16 golongan/kategori yaitu Action, Animation, Children, classics, Comedy, Documentary, Drama, Family, Foreign, Games, Horror, Music, New, Sci-Fi, Sports dan Travel.\n",
    "\n",
    "Secara kuantitas Category 'Sports' menjadi yang paling diminati customer dibandingkan dengan Category yang lainnya. Total terdapat 1164 dvd yang direntalkan. Jika melihat dari rata-rata rental rate yakni sebesar 3.316, nilainya menjadi yang terbesar di antara Category lainnya. Artinya, Category Sports ini menjadi yang paling diminati Customer dan memiliki rata-rata sewa tertinggi.\n",
    "\n",
    "Melihat Category 'Music' terdapat 819 perental dan memiliki rata-rata rental rate 3.068. Category Music ini menjadi yang paling sedikit peminatnya tetapi memiliki nilai rata-rata rental rate yang cukup tinggi. Artinya, Category 'Music' ini menjadi yang tidak diminati tetapi memiliki rata-rata sewa yang termasuk tinggi.\n",
    "\n",
    "Melihat Category 'Documentary' terdapat 1043 perental dan memiliki rata-rata rental rate 2.6218. Category Documentary ini cukup banyak diminati Costumer. Tetapi jika dilihat dari rata-rata rental rate, Category 'Documentary' ini memiliki nilai rata-rata rental yang paling rendah dibandingkan dengan rating rata-rata Category lainnya. Artinya, Category 'Documentary' ini termasuk diminati oleh Customer & memiliki rata-rata sewa terendah.\n"
   ]
  },
  {
   "cell_type": "markdown",
   "metadata": {},
   "source": [
    "Handling Outliner\n",
    "\n",
    "Sebelum data dianalisa sebaiknya dilakukan pemeriksaan terhadap data outlier terlebih dahulu. Data outlier dibawah ini menggunakan salah satu teknik visualisasi yaitu menggunakan boxplot. Terdapat 3 kolom yang akan diperiksa dengan boxplot yaitu rental_duration, rental_rate, amount. Masing-masing kolom tersebut adalah data numerik."
   ]
  },
  {
   "cell_type": "code",
   "execution_count": 857,
   "metadata": {},
   "outputs": [
    {
     "name": "stderr",
     "output_type": "stream",
     "text": [
      "C:\\Users\\Wirdan\\AppData\\Local\\Programs\\Python\\Python310\\lib\\site-packages\\seaborn\\_decorators.py:36: FutureWarning:\n",
      "\n",
      "Pass the following variable as a keyword arg: x. From version 0.12, the only valid positional argument will be `data`, and passing other arguments without an explicit keyword will result in an error or misinterpretation.\n",
      "\n",
      "C:\\Users\\Wirdan\\AppData\\Local\\Programs\\Python\\Python310\\lib\\site-packages\\seaborn\\_decorators.py:36: FutureWarning:\n",
      "\n",
      "Pass the following variable as a keyword arg: x. From version 0.12, the only valid positional argument will be `data`, and passing other arguments without an explicit keyword will result in an error or misinterpretation.\n",
      "\n",
      "C:\\Users\\Wirdan\\AppData\\Local\\Programs\\Python\\Python310\\lib\\site-packages\\seaborn\\_decorators.py:36: FutureWarning:\n",
      "\n",
      "Pass the following variable as a keyword arg: x. From version 0.12, the only valid positional argument will be `data`, and passing other arguments without an explicit keyword will result in an error or misinterpretation.\n",
      "\n"
     ]
    },
    {
     "data": {
      "text/plain": [
       "Text(0.5, 0, 'Dollar')"
      ]
     },
     "execution_count": 857,
     "metadata": {},
     "output_type": "execute_result"
    },
    {
     "data": {
      "image/png": "[encoded data removed]",
      "text/plain": [
       "<Figure size 1080x1296 with 3 Axes>"
      ]
     },
     "metadata": {},
     "output_type": "display_data"
    }
   ],
   "source": [
    "plt.figure(figsize=(15,18))\n",
    "plt.subplot(3,2,1)\n",
    "sns.boxplot(tabel1['rental_duration'], color='gold')\n",
    "plt.title('Rental Duration')\n",
    "plt.xlabel('Days')\n",
    "plt.subplot(3,2,2)\n",
    "sns.boxplot(tabel1['rental_rate'], color='gold')\n",
    "plt.title('Rental Rate')\n",
    "plt.xlabel('Dollar')\n",
    "plt.subplot(3,2,3)\n",
    "sns.boxplot(tabel1['amount'], color='gold')\n",
    "plt.title('Amount')\n",
    "plt.xlabel('Dollar')\n"
   ]
  },
  {
   "cell_type": "code",
   "execution_count": 862,
   "metadata": {},
   "outputs": [
    {
     "data": {
      "text/html": [
       "<div>\n",
       "<style scoped>\n",
       "    .dataframe tbody tr th:only-of-type {\n",
       "        vertical-align: middle;\n",
       "    }\n",
       "\n",
       "    .dataframe tbody tr th {\n",
       "        vertical-align: top;\n",
       "    }\n",
       "\n",
       "    .dataframe thead th {\n",
       "        text-align: right;\n",
       "    }\n",
       "</style>\n",
       "<table border=\"1\" class=\"dataframe\">\n",
       "  <thead>\n",
       "    <tr style=\"text-align: right;\">\n",
       "      <th></th>\n",
       "      <th>customer_id</th>\n",
       "      <th>rental_id</th>\n",
       "      <th>first_name</th>\n",
       "      <th>last_name</th>\n",
       "      <th>email</th>\n",
       "      <th>title</th>\n",
       "      <th>Category</th>\n",
       "      <th>rental_date</th>\n",
       "      <th>return_date</th>\n",
       "      <th>payment_date</th>\n",
       "      <th>rental_duration</th>\n",
       "      <th>amount</th>\n",
       "      <th>total_Amount</th>\n",
       "      <th>rental_rate</th>\n",
       "      <th>ProcessingDate</th>\n",
       "    </tr>\n",
       "  </thead>\n",
       "  <tbody>\n",
       "    <tr>\n",
       "      <th>4</th>\n",
       "      <td>1</td>\n",
       "      <td>1476.0</td>\n",
       "      <td>MARY</td>\n",
       "      <td>SMITH</td>\n",
       "      <td>MARY.SMITH@sakilacustomer.org</td>\n",
       "      <td>FERRIS MOTHER</td>\n",
       "      <td>Comedy</td>\n",
       "      <td>2005-06-15 21:08:46</td>\n",
       "      <td>2005-06-25 02:26:46</td>\n",
       "      <td>2005-06-15 21:08:46</td>\n",
       "      <td>3.0</td>\n",
       "      <td>9.99</td>\n",
       "      <td>30.0</td>\n",
       "      <td>2.99</td>\n",
       "      <td>9 days 05:18:00</td>\n",
       "    </tr>\n",
       "    <tr>\n",
       "      <th>43</th>\n",
       "      <td>2</td>\n",
       "      <td>9236.0</td>\n",
       "      <td>PATRICIA</td>\n",
       "      <td>JOHNSON</td>\n",
       "      <td>PATRICIA.JOHNSON@sakilacustomer.org</td>\n",
       "      <td>TEEN APOLLO</td>\n",
       "      <td>Travel</td>\n",
       "      <td>2005-07-30 13:47:43</td>\n",
       "      <td>2005-08-08 18:52:43</td>\n",
       "      <td>2005-07-30 13:47:43</td>\n",
       "      <td>3.0</td>\n",
       "      <td>10.99</td>\n",
       "      <td>33.0</td>\n",
       "      <td>4.99</td>\n",
       "      <td>9 days 05:05:00</td>\n",
       "    </tr>\n",
       "    <tr>\n",
       "      <th>61</th>\n",
       "      <td>3</td>\n",
       "      <td>1546.0</td>\n",
       "      <td>LINDA</td>\n",
       "      <td>WILLIAMS</td>\n",
       "      <td>LINDA.WILLIAMS@sakilacustomer.org</td>\n",
       "      <td>STRANGERS GRAFFITI</td>\n",
       "      <td>Horror</td>\n",
       "      <td>2005-06-16 01:34:05</td>\n",
       "      <td>2005-06-24 04:27:05</td>\n",
       "      <td>2005-06-16 01:34:05</td>\n",
       "      <td>4.0</td>\n",
       "      <td>8.99</td>\n",
       "      <td>36.0</td>\n",
       "      <td>4.99</td>\n",
       "      <td>8 days 02:53:00</td>\n",
       "    </tr>\n",
       "    <tr>\n",
       "      <th>68</th>\n",
       "      <td>3</td>\n",
       "      <td>7503.0</td>\n",
       "      <td>LINDA</td>\n",
       "      <td>WILLIAMS</td>\n",
       "      <td>LINDA.WILLIAMS@sakilacustomer.org</td>\n",
       "      <td>CASUALTIES ENCINO</td>\n",
       "      <td>Action</td>\n",
       "      <td>2005-07-27 20:23:12</td>\n",
       "      <td>2005-08-05 18:46:12</td>\n",
       "      <td>2005-07-27 20:23:12</td>\n",
       "      <td>3.0</td>\n",
       "      <td>10.99</td>\n",
       "      <td>33.0</td>\n",
       "      <td>4.99</td>\n",
       "      <td>8 days 22:23:00</td>\n",
       "    </tr>\n",
       "    <tr>\n",
       "      <th>80</th>\n",
       "      <td>3</td>\n",
       "      <td>13403.0</td>\n",
       "      <td>LINDA</td>\n",
       "      <td>WILLIAMS</td>\n",
       "      <td>LINDA.WILLIAMS@sakilacustomer.org</td>\n",
       "      <td>RAGING AIRPLANE</td>\n",
       "      <td>Sci-Fi</td>\n",
       "      <td>2005-08-19 22:18:07</td>\n",
       "      <td>2005-08-27 19:23:07</td>\n",
       "      <td>2005-08-19 22:18:07</td>\n",
       "      <td>4.0</td>\n",
       "      <td>8.99</td>\n",
       "      <td>36.0</td>\n",
       "      <td>4.99</td>\n",
       "      <td>7 days 21:05:00</td>\n",
       "    </tr>\n",
       "    <tr>\n",
       "      <th>...</th>\n",
       "      <td>...</td>\n",
       "      <td>...</td>\n",
       "      <td>...</td>\n",
       "      <td>...</td>\n",
       "      <td>...</td>\n",
       "      <td>...</td>\n",
       "      <td>...</td>\n",
       "      <td>...</td>\n",
       "      <td>...</td>\n",
       "      <td>...</td>\n",
       "      <td>...</td>\n",
       "      <td>...</td>\n",
       "      <td>...</td>\n",
       "      <td>...</td>\n",
       "      <td>...</td>\n",
       "    </tr>\n",
       "    <tr>\n",
       "      <th>15928</th>\n",
       "      <td>595</td>\n",
       "      <td>3789.0</td>\n",
       "      <td>TERRENCE</td>\n",
       "      <td>GUNDERSON</td>\n",
       "      <td>TERRENCE.GUNDERSON@sakilacustomer.org</td>\n",
       "      <td>SECRETS PARADISE</td>\n",
       "      <td>Family</td>\n",
       "      <td>2005-07-06 14:02:26</td>\n",
       "      <td>2005-07-14 18:13:26</td>\n",
       "      <td>2005-07-06 14:02:26</td>\n",
       "      <td>3.0</td>\n",
       "      <td>9.99</td>\n",
       "      <td>30.0</td>\n",
       "      <td>4.99</td>\n",
       "      <td>8 days 04:11:00</td>\n",
       "    </tr>\n",
       "    <tr>\n",
       "      <th>15946</th>\n",
       "      <td>595</td>\n",
       "      <td>9826.0</td>\n",
       "      <td>TERRENCE</td>\n",
       "      <td>GUNDERSON</td>\n",
       "      <td>TERRENCE.GUNDERSON@sakilacustomer.org</td>\n",
       "      <td>MINE TITANS</td>\n",
       "      <td>New</td>\n",
       "      <td>2005-07-31 11:51:46</td>\n",
       "      <td>2005-08-09 17:18:46</td>\n",
       "      <td>2005-07-31 11:51:46</td>\n",
       "      <td>3.0</td>\n",
       "      <td>10.99</td>\n",
       "      <td>33.0</td>\n",
       "      <td>4.99</td>\n",
       "      <td>9 days 05:27:00</td>\n",
       "    </tr>\n",
       "    <tr>\n",
       "      <th>15984</th>\n",
       "      <td>597</td>\n",
       "      <td>514.0</td>\n",
       "      <td>FREDDIE</td>\n",
       "      <td>DUGGAN</td>\n",
       "      <td>FREDDIE.DUGGAN@sakilacustomer.org</td>\n",
       "      <td>GOODFELLAS SALUTE</td>\n",
       "      <td>Sci-Fi</td>\n",
       "      <td>2005-05-28 03:09:28</td>\n",
       "      <td>2005-06-05 00:49:28</td>\n",
       "      <td>2005-05-28 03:09:28</td>\n",
       "      <td>4.0</td>\n",
       "      <td>8.99</td>\n",
       "      <td>36.0</td>\n",
       "      <td>4.99</td>\n",
       "      <td>7 days 21:40:00</td>\n",
       "    </tr>\n",
       "    <tr>\n",
       "      <th>16037</th>\n",
       "      <td>599</td>\n",
       "      <td>6800.0</td>\n",
       "      <td>AUSTIN</td>\n",
       "      <td>CINTRON</td>\n",
       "      <td>AUSTIN.CINTRON@sakilacustomer.org</td>\n",
       "      <td>SOMETHING DUCK</td>\n",
       "      <td>Drama</td>\n",
       "      <td>2005-07-12 17:03:56</td>\n",
       "      <td>2005-07-21 20:32:56</td>\n",
       "      <td>2005-07-12 17:03:56</td>\n",
       "      <td>4.0</td>\n",
       "      <td>9.99</td>\n",
       "      <td>40.0</td>\n",
       "      <td>4.99</td>\n",
       "      <td>9 days 03:29:00</td>\n",
       "    </tr>\n",
       "    <tr>\n",
       "      <th>16046</th>\n",
       "      <td>599</td>\n",
       "      <td>15590.0</td>\n",
       "      <td>AUSTIN</td>\n",
       "      <td>CINTRON</td>\n",
       "      <td>AUSTIN.CINTRON@sakilacustomer.org</td>\n",
       "      <td>TEMPLE ATTRACTION</td>\n",
       "      <td>Horror</td>\n",
       "      <td>2005-08-23 06:09:44</td>\n",
       "      <td>2005-09-01 06:53:44</td>\n",
       "      <td>2005-08-23 06:09:44</td>\n",
       "      <td>5.0</td>\n",
       "      <td>8.99</td>\n",
       "      <td>45.0</td>\n",
       "      <td>4.99</td>\n",
       "      <td>9 days 00:44:00</td>\n",
       "    </tr>\n",
       "  </tbody>\n",
       "</table>\n",
       "<p>855 rows × 15 columns</p>\n",
       "</div>"
      ],
      "text/plain": [
       "       customer_id  rental_id first_name  last_name  \\\n",
       "4                1     1476.0       MARY      SMITH   \n",
       "43               2     9236.0   PATRICIA    JOHNSON   \n",
       "61               3     1546.0      LINDA   WILLIAMS   \n",
       "68               3     7503.0      LINDA   WILLIAMS   \n",
       "80               3    13403.0      LINDA   WILLIAMS   \n",
       "...            ...        ...        ...        ...   \n",
       "15928          595     3789.0   TERRENCE  GUNDERSON   \n",
       "15946          595     9826.0   TERRENCE  GUNDERSON   \n",
       "15984          597      514.0    FREDDIE     DUGGAN   \n",
       "16037          599     6800.0     AUSTIN    CINTRON   \n",
       "16046          599    15590.0     AUSTIN    CINTRON   \n",
       "\n",
       "                                       email               title Category  \\\n",
       "4              MARY.SMITH@sakilacustomer.org       FERRIS MOTHER   Comedy   \n",
       "43       PATRICIA.JOHNSON@sakilacustomer.org         TEEN APOLLO   Travel   \n",
       "61         LINDA.WILLIAMS@sakilacustomer.org  STRANGERS GRAFFITI   Horror   \n",
       "68         LINDA.WILLIAMS@sakilacustomer.org   CASUALTIES ENCINO   Action   \n",
       "80         LINDA.WILLIAMS@sakilacustomer.org     RAGING AIRPLANE   Sci-Fi   \n",
       "...                                      ...                 ...      ...   \n",
       "15928  TERRENCE.GUNDERSON@sakilacustomer.org    SECRETS PARADISE   Family   \n",
       "15946  TERRENCE.GUNDERSON@sakilacustomer.org         MINE TITANS      New   \n",
       "15984      FREDDIE.DUGGAN@sakilacustomer.org   GOODFELLAS SALUTE   Sci-Fi   \n",
       "16037      AUSTIN.CINTRON@sakilacustomer.org      SOMETHING DUCK    Drama   \n",
       "16046      AUSTIN.CINTRON@sakilacustomer.org   TEMPLE ATTRACTION   Horror   \n",
       "\n",
       "              rental_date         return_date        payment_date  \\\n",
       "4     2005-06-15 21:08:46 2005-06-25 02:26:46 2005-06-15 21:08:46   \n",
       "43    2005-07-30 13:47:43 2005-08-08 18:52:43 2005-07-30 13:47:43   \n",
       "61    2005-06-16 01:34:05 2005-06-24 04:27:05 2005-06-16 01:34:05   \n",
       "68    2005-07-27 20:23:12 2005-08-05 18:46:12 2005-07-27 20:23:12   \n",
       "80    2005-08-19 22:18:07 2005-08-27 19:23:07 2005-08-19 22:18:07   \n",
       "...                   ...                 ...                 ...   \n",
       "15928 2005-07-06 14:02:26 2005-07-14 18:13:26 2005-07-06 14:02:26   \n",
       "15946 2005-07-31 11:51:46 2005-08-09 17:18:46 2005-07-31 11:51:46   \n",
       "15984 2005-05-28 03:09:28 2005-06-05 00:49:28 2005-05-28 03:09:28   \n",
       "16037 2005-07-12 17:03:56 2005-07-21 20:32:56 2005-07-12 17:03:56   \n",
       "16046 2005-08-23 06:09:44 2005-09-01 06:53:44 2005-08-23 06:09:44   \n",
       "\n",
       "       rental_duration  amount  total_Amount  rental_rate  ProcessingDate  \n",
       "4                  3.0    9.99          30.0         2.99 9 days 05:18:00  \n",
       "43                 3.0   10.99          33.0         4.99 9 days 05:05:00  \n",
       "61                 4.0    8.99          36.0         4.99 8 days 02:53:00  \n",
       "68                 3.0   10.99          33.0         4.99 8 days 22:23:00  \n",
       "80                 4.0    8.99          36.0         4.99 7 days 21:05:00  \n",
       "...                ...     ...           ...          ...             ...  \n",
       "15928              3.0    9.99          30.0         4.99 8 days 04:11:00  \n",
       "15946              3.0   10.99          33.0         4.99 9 days 05:27:00  \n",
       "15984              4.0    8.99          36.0         4.99 7 days 21:40:00  \n",
       "16037              4.0    9.99          40.0         4.99 9 days 03:29:00  \n",
       "16046              5.0    8.99          45.0         4.99 9 days 00:44:00  \n",
       "\n",
       "[855 rows x 15 columns]"
      ]
     },
     "execution_count": 862,
     "metadata": {},
     "output_type": "execute_result"
    }
   ],
   "source": [
    "Q1_amount = tabel1['amount'].describe()['25%']\n",
    "Q3_amount = tabel1['amount'].describe()['75%']\n",
    "IQR_amount = Q3_amount - Q1_amount\n",
    "\n",
    "outlier_index = tabel1[(tabel1['amount'] < Q1_amount - (1.5 * IQR_amount)) | (tabel1['amount']> Q3_amount + (1.5 * IQR_amount)) ].index\n",
    "tabel1.loc[outlier_index]"
   ]
  },
  {
   "cell_type": "markdown",
   "metadata": {},
   "source": [
    "Dari hasil plot diatas dapat dilihat bahwa kolom rental_duration tidak memiliki outlier, kolom rental_rate memiliki nilai minimal dan maksimal dari data sama dengan nilai quartil 1 dan quartil 3, menunjukan bahwa tidak banyak variasi di dalam data. Kolom yang memiliki nilai outlier dari plot diatas adalah kolom amount, ditunjukan pada boxplot terdapat titik-titik outlier diluar ujung box plot."
   ]
  },
  {
   "cell_type": "markdown",
   "metadata": {},
   "source": [
    "DATA VISUALIZATION & STATISTICS"
   ]
  },
  {
   "cell_type": "markdown",
   "metadata": {},
   "source": [
    "Setelah mendapatkan data yang sudah 'bersih' dan siap untuk digunakan, masuklah kita ke bagian analisis data dengan menggunakan visual sebagai medianya. Di sini, kita akan melakukan visualisasi data untuk mendapatkan insight."
   ]
  },
  {
   "cell_type": "code",
   "execution_count": 863,
   "metadata": {},
   "outputs": [],
   "source": [
    "import plotly.express as px\n",
    "import matplotlib.pyplot as plt\n",
    "import seaborn as sns"
   ]
  },
  {
   "cell_type": "markdown",
   "metadata": {},
   "source": [
    "Top 5 Loyal Costumer"
   ]
  },
  {
   "cell_type": "code",
   "execution_count": 864,
   "metadata": {},
   "outputs": [
    {
     "data": {
      "application/vnd.plotly.v1+json": {
       "config": {
        "plotlyServerURL": "https://plot.ly"
       },
       "data": [
        {
         "alignmentgroup": "True",
         "hovertemplate": "variable=first_name<br>index=%{x}<br>value=%{y}<extra></extra>",
         "legendgroup": "first_name",
         "marker": {
          "color": "#636efa"
         },
         "name": "first_name",
         "offsetgroup": "first_name",
         "orientation": "v",
         "showlegend": true,
         "textposition": "auto",
         "type": "bar",
         "x": [
          "MARION",
          "JESSIE",
          "TRACY",
          "LESLIE",
          "JAMIE"
         ],
         "xaxis": "x",
         "y": [
          67,
          57,
          57,
          57,
          54
         ],
         "yaxis": "y"
        }
       ],
       "layout": {
        "barmode": "relative",
        "legend": {
         "title": {
          "text": "variable"
         },
         "tracegroupgap": 0
        },
        "template": {
         "data": {
          "bar": [
           {
            "error_x": {
             "color": "#2a3f5f"
            },
            "error_y": {
             "color": "#2a3f5f"
            },
            "marker": {
             "line": {
              "color": "#E5ECF6",
              "width": 0.5
             }
            },
            "type": "bar"
           }
          ],
          "barpolar": [
           {
            "marker": {
             "line": {
              "color": "#E5ECF6",
              "width": 0.5
             }
            },
            "type": "barpolar"
           }
          ],
          "carpet": [
           {
            "aaxis": {
             "endlinecolor": "#2a3f5f",
             "gridcolor": "white",
             "linecolor": "white",
             "minorgridcolor": "white",
             "startlinecolor": "#2a3f5f"
            },
            "baxis": {
             "endlinecolor": "#2a3f5f",
             "gridcolor": "white",
             "linecolor": "white",
             "minorgridcolor": "white",
             "startlinecolor": "#2a3f5f"
            },
            "type": "carpet"
           }
          ],
          "choropleth": [
           {
            "colorbar": {
             "outlinewidth": 0,
             "ticks": ""
            },
            "type": "choropleth"
           }
          ],
          "contour": [
           {
            "colorbar": {
             "outlinewidth": 0,
             "ticks": ""
            },
            "colorscale": [
             [
              0,
              "#0d0887"
             ],
             [
              0.1111111111111111,
              "#46039f"
             ],
             [
              0.2222222222222222,
              "#7201a8"
             ],
             [
              0.3333333333333333,
              "#9c179e"
             ],
             [
              0.4444444444444444,
              "#bd3786"
             ],
             [
              0.5555555555555556,
              "#d8576b"
             ],
             [
              0.6666666666666666,
              "#ed7953"
             ],
             [
              0.7777777777777778,
              "#fb9f3a"
             ],
             [
              0.8888888888888888,
              "#fdca26"
             ],
             [
              1,
              "#f0f921"
             ]
            ],
            "type": "contour"
           }
          ],
          "contourcarpet": [
           {
            "colorbar": {
             "outlinewidth": 0,
             "ticks": ""
            },
            "type": "contourcarpet"
           }
          ],
          "heatmap": [
           {
            "colorbar": {
             "outlinewidth": 0,
             "ticks": ""
            },
            "colorscale": [
             [
              0,
              "#0d0887"
             ],
             [
              0.1111111111111111,
              "#46039f"
             ],
             [
              0.2222222222222222,
              "#7201a8"
             ],
             [
              0.3333333333333333,
              "#9c179e"
             ],
             [
              0.4444444444444444,
              "#bd3786"
             ],
             [
              0.5555555555555556,
              "#d8576b"
             ],
             [
              0.6666666666666666,
              "#ed7953"
             ],
             [
              0.7777777777777778,
              "#fb9f3a"
             ],
             [
              0.8888888888888888,
              "#fdca26"
             ],
             [
              1,
              "#f0f921"
             ]
            ],
            "type": "heatmap"
           }
          ],
          "heatmapgl": [
           {
            "colorbar": {
             "outlinewidth": 0,
             "ticks": ""
            },
            "colorscale": [
             [
              0,
              "#0d0887"
             ],
             [
              0.1111111111111111,
              "#46039f"
             ],
             [
              0.2222222222222222,
              "#7201a8"
             ],
             [
              0.3333333333333333,
              "#9c179e"
             ],
             [
              0.4444444444444444,
              "#bd3786"
             ],
             [
              0.5555555555555556,
              "#d8576b"
             ],
             [
              0.6666666666666666,
              "#ed7953"
             ],
             [
              0.7777777777777778,
              "#fb9f3a"
             ],
             [
              0.8888888888888888,
              "#fdca26"
             ],
             [
              1,
              "#f0f921"
             ]
            ],
            "type": "heatmapgl"
           }
          ],
          "histogram": [
           {
            "marker": {
             "colorbar": {
              "outlinewidth": 0,
              "ticks": ""
             }
            },
            "type": "histogram"
           }
          ],
          "histogram2d": [
           {
            "colorbar": {
             "outlinewidth": 0,
             "ticks": ""
            },
            "colorscale": [
             [
              0,
              "#0d0887"
             ],
             [
              0.1111111111111111,
              "#46039f"
             ],
             [
              0.2222222222222222,
              "#7201a8"
             ],
             [
              0.3333333333333333,
              "#9c179e"
             ],
             [
              0.4444444444444444,
              "#bd3786"
             ],
             [
              0.5555555555555556,
              "#d8576b"
             ],
             [
              0.6666666666666666,
              "#ed7953"
             ],
             [
              0.7777777777777778,
              "#fb9f3a"
             ],
             [
              0.8888888888888888,
              "#fdca26"
             ],
             [
              1,
              "#f0f921"
             ]
            ],
            "type": "histogram2d"
           }
          ],
          "histogram2dcontour": [
           {
            "colorbar": {
             "outlinewidth": 0,
             "ticks": ""
            },
            "colorscale": [
             [
              0,
              "#0d0887"
             ],
             [
              0.1111111111111111,
              "#46039f"
             ],
             [
              0.2222222222222222,
              "#7201a8"
             ],
             [
              0.3333333333333333,
              "#9c179e"
             ],
             [
              0.4444444444444444,
              "#bd3786"
             ],
             [
              0.5555555555555556,
              "#d8576b"
             ],
             [
              0.6666666666666666,
              "#ed7953"
             ],
             [
              0.7777777777777778,
              "#fb9f3a"
             ],
             [
              0.8888888888888888,
              "#fdca26"
             ],
             [
              1,
              "#f0f921"
             ]
            ],
            "type": "histogram2dcontour"
           }
          ],
          "mesh3d": [
           {
            "colorbar": {
             "outlinewidth": 0,
             "ticks": ""
            },
            "type": "mesh3d"
           }
          ],
          "parcoords": [
           {
            "line": {
             "colorbar": {
              "outlinewidth": 0,
              "ticks": ""
             }
            },
            "type": "parcoords"
           }
          ],
          "pie": [
           {
            "automargin": true,
            "type": "pie"
           }
          ],
          "scatter": [
           {
            "marker": {
             "colorbar": {
              "outlinewidth": 0,
              "ticks": ""
             }
            },
            "type": "scatter"
           }
          ],
          "scatter3d": [
           {
            "line": {
             "colorbar": {
              "outlinewidth": 0,
              "ticks": ""
             }
            },
            "marker": {
             "colorbar": {
              "outlinewidth": 0,
              "ticks": ""
             }
            },
            "type": "scatter3d"
           }
          ],
          "scattercarpet": [
           {
            "marker": {
             "colorbar": {
              "outlinewidth": 0,
              "ticks": ""
             }
            },
            "type": "scattercarpet"
           }
          ],
          "scattergeo": [
           {
            "marker": {
             "colorbar": {
              "outlinewidth": 0,
              "ticks": ""
             }
            },
            "type": "scattergeo"
           }
          ],
          "scattergl": [
           {
            "marker": {
             "colorbar": {
              "outlinewidth": 0,
              "ticks": ""
             }
            },
            "type": "scattergl"
           }
          ],
          "scattermapbox": [
           {
            "marker": {
             "colorbar": {
              "outlinewidth": 0,
              "ticks": ""
             }
            },
            "type": "scattermapbox"
           }
          ],
          "scatterpolar": [
           {
            "marker": {
             "colorbar": {
              "outlinewidth": 0,
              "ticks": ""
             }
            },
            "type": "scatterpolar"
           }
          ],
          "scatterpolargl": [
           {
            "marker": {
             "colorbar": {
              "outlinewidth": 0,
              "ticks": ""
             }
            },
            "type": "scatterpolargl"
           }
          ],
          "scatterternary": [
           {
            "marker": {
             "colorbar": {
              "outlinewidth": 0,
              "ticks": ""
             }
            },
            "type": "scatterternary"
           }
          ],
          "surface": [
           {
            "colorbar": {
             "outlinewidth": 0,
             "ticks": ""
            },
            "colorscale": [
             [
              0,
              "#0d0887"
             ],
             [
              0.1111111111111111,
              "#46039f"
             ],
             [
              0.2222222222222222,
              "#7201a8"
             ],
             [
              0.3333333333333333,
              "#9c179e"
             ],
             [
              0.4444444444444444,
              "#bd3786"
             ],
             [
              0.5555555555555556,
              "#d8576b"
             ],
             [
              0.6666666666666666,
              "#ed7953"
             ],
             [
              0.7777777777777778,
              "#fb9f3a"
             ],
             [
              0.8888888888888888,
              "#fdca26"
             ],
             [
              1,
              "#f0f921"
             ]
            ],
            "type": "surface"
           }
          ],
          "table": [
           {
            "cells": {
             "fill": {
              "color": "#EBF0F8"
             },
             "line": {
              "color": "white"
             }
            },
            "header": {
             "fill": {
              "color": "#C8D4E3"
             },
             "line": {
              "color": "white"
             }
            },
            "type": "table"
           }
          ]
         },
         "layout": {
          "annotationdefaults": {
           "arrowcolor": "#2a3f5f",
           "arrowhead": 0,
           "arrowwidth": 1
          },
          "autotypenumbers": "strict",
          "coloraxis": {
           "colorbar": {
            "outlinewidth": 0,
            "ticks": ""
           }
          },
          "colorscale": {
           "diverging": [
            [
             0,
             "#8e0152"
            ],
            [
             0.1,
             "#c51b7d"
            ],
            [
             0.2,
             "#de77ae"
            ],
            [
             0.3,
             "#f1b6da"
            ],
            [
             0.4,
             "#fde0ef"
            ],
            [
             0.5,
             "#f7f7f7"
            ],
            [
             0.6,
             "#e6f5d0"
            ],
            [
             0.7,
             "#b8e186"
            ],
            [
             0.8,
             "#7fbc41"
            ],
            [
             0.9,
             "#4d9221"
            ],
            [
             1,
             "#276419"
            ]
           ],
           "sequential": [
            [
             0,
             "#0d0887"
            ],
            [
             0.1111111111111111,
             "#46039f"
            ],
            [
             0.2222222222222222,
             "#7201a8"
            ],
            [
             0.3333333333333333,
             "#9c179e"
            ],
            [
             0.4444444444444444,
             "#bd3786"
            ],
            [
             0.5555555555555556,
             "#d8576b"
            ],
            [
             0.6666666666666666,
             "#ed7953"
            ],
            [
             0.7777777777777778,
             "#fb9f3a"
            ],
            [
             0.8888888888888888,
             "#fdca26"
            ],
            [
             1,
             "#f0f921"
            ]
           ],
           "sequentialminus": [
            [
             0,
             "#0d0887"
            ],
            [
             0.1111111111111111,
             "#46039f"
            ],
            [
             0.2222222222222222,
             "#7201a8"
            ],
            [
             0.3333333333333333,
             "#9c179e"
            ],
            [
             0.4444444444444444,
             "#bd3786"
            ],
            [
             0.5555555555555556,
             "#d8576b"
            ],
            [
             0.6666666666666666,
             "#ed7953"
            ],
            [
             0.7777777777777778,
             "#fb9f3a"
            ],
            [
             0.8888888888888888,
             "#fdca26"
            ],
            [
             1,
             "#f0f921"
            ]
           ]
          },
          "colorway": [
           "#636efa",
           "#EF553B",
           "#00cc96",
           "#ab63fa",
           "#FFA15A",
           "#19d3f3",
           "#FF6692",
           "#B6E880",
           "#FF97FF",
           "#FECB52"
          ],
          "font": {
           "color": "#2a3f5f"
          },
          "geo": {
           "bgcolor": "white",
           "lakecolor": "white",
           "landcolor": "#E5ECF6",
           "showlakes": true,
           "showland": true,
           "subunitcolor": "white"
          },
          "hoverlabel": {
           "align": "left"
          },
          "hovermode": "closest",
          "mapbox": {
           "style": "light"
          },
          "paper_bgcolor": "white",
          "plot_bgcolor": "#E5ECF6",
          "polar": {
           "angularaxis": {
            "gridcolor": "white",
            "linecolor": "white",
            "ticks": ""
           },
           "bgcolor": "#E5ECF6",
           "radialaxis": {
            "gridcolor": "white",
            "linecolor": "white",
            "ticks": ""
           }
          },
          "scene": {
           "xaxis": {
            "backgroundcolor": "#E5ECF6",
            "gridcolor": "white",
            "gridwidth": 2,
            "linecolor": "white",
            "showbackground": true,
            "ticks": "",
            "zerolinecolor": "white"
           },
           "yaxis": {
            "backgroundcolor": "#E5ECF6",
            "gridcolor": "white",
            "gridwidth": 2,
            "linecolor": "white",
            "showbackground": true,
            "ticks": "",
            "zerolinecolor": "white"
           },
           "zaxis": {
            "backgroundcolor": "#E5ECF6",
            "gridcolor": "white",
            "gridwidth": 2,
            "linecolor": "white",
            "showbackground": true,
            "ticks": "",
            "zerolinecolor": "white"
           }
          },
          "shapedefaults": {
           "line": {
            "color": "#2a3f5f"
           }
          },
          "ternary": {
           "aaxis": {
            "gridcolor": "white",
            "linecolor": "white",
            "ticks": ""
           },
           "baxis": {
            "gridcolor": "white",
            "linecolor": "white",
            "ticks": ""
           },
           "bgcolor": "#E5ECF6",
           "caxis": {
            "gridcolor": "white",
            "linecolor": "white",
            "ticks": ""
           }
          },
          "title": {
           "x": 0.05
          },
          "xaxis": {
           "automargin": true,
           "gridcolor": "white",
           "linecolor": "white",
           "ticks": "",
           "title": {
            "standoff": 15
           },
           "zerolinecolor": "white",
           "zerolinewidth": 2
          },
          "yaxis": {
           "automargin": true,
           "gridcolor": "white",
           "linecolor": "white",
           "ticks": "",
           "title": {
            "standoff": 15
           },
           "zerolinecolor": "white",
           "zerolinewidth": 2
          }
         }
        },
        "title": {
         "text": "Loyal Customer"
        },
        "xaxis": {
         "anchor": "y",
         "domain": [
          0,
          1
         ],
         "title": {
          "text": "index"
         }
        },
        "yaxis": {
         "anchor": "x",
         "domain": [
          0,
          1
         ],
         "title": {
          "text": "value"
         }
        }
       }
      }
     },
     "metadata": {},
     "output_type": "display_data"
    }
   ],
   "source": [
    "fig = px.bar(tabel1['first_name'].value_counts().head(),\n",
    "            title = 'Loyal Customer')\n",
    "fig.show()"
   ]
  },
  {
   "cell_type": "markdown",
   "metadata": {},
   "source": [
    "Dari tabel Visualisasi diatas, terdapat 5 Customer dengan loyalitas tertinggi, dan yang memiliki Loyalitas paling tinggi adalah Marion."
   ]
  },
  {
   "cell_type": "markdown",
   "metadata": {},
   "source": [
    "Film Category yang Paling Diminati"
   ]
  },
  {
   "cell_type": "code",
   "execution_count": 865,
   "metadata": {},
   "outputs": [
    {
     "name": "stderr",
     "output_type": "stream",
     "text": [
      "C:\\Users\\Wirdan\\AppData\\Local\\Programs\\Python\\Python310\\lib\\site-packages\\seaborn\\_decorators.py:36: FutureWarning:\n",
      "\n",
      "Pass the following variable as a keyword arg: x. From version 0.12, the only valid positional argument will be `data`, and passing other arguments without an explicit keyword will result in an error or misinterpretation.\n",
      "\n"
     ]
    },
    {
     "data": {
      "image/png": "[encoded data removed]",
      "text/plain": [
       "<Figure size 1440x576 with 1 Axes>"
      ]
     },
     "metadata": {},
     "output_type": "display_data"
    }
   ],
   "source": [
    "plt.figure(figsize=(20,8))\n",
    "sns.countplot(tabel1['Category'],\n",
    "            order = tabel1['Category'].value_counts().index)\n",
    "plt.xlabel('Film Category', size = 20)\n",
    "plt.ylabel('Jumlah Rental', size = 20)\n",
    "plt.title ('Film Category Yang Paling Diminati', size = 30)\n",
    "plt.show()"
   ]
  },
  {
   "cell_type": "markdown",
   "metadata": {},
   "source": [
    "Dari Visualisasi diatas Category film yang paling diminati Customer adalah Category Sport."
   ]
  },
  {
   "cell_type": "markdown",
   "metadata": {},
   "source": [
    "Category Film Dengan Rata-Rata Rental Rate Tertinggi - Terendah"
   ]
  },
  {
   "cell_type": "code",
   "execution_count": 866,
   "metadata": {},
   "outputs": [
    {
     "data": {
      "image/png": "[encoded data removed]",
      "text/plain": [
       "<Figure size 1440x720 with 1 Axes>"
      ]
     },
     "metadata": {},
     "output_type": "display_data"
    }
   ],
   "source": [
    "# Product Line Quantities\n",
    "\n",
    "rentalRate = tabel1[['Category', 'rental_rate']].groupby(['Category']).count().sort_values('rental_rate')\n",
    "x = rentalRate.index\n",
    "y = rentalRate['rental_rate']\n",
    "\n",
    "plt.style.use('seaborn')\n",
    "plt.figure(figsize = (20,10))\n",
    "plt.barh(x,y, color = sns.color_palette('bright'))\n",
    "plt.title('Rata-Rata Rental Rate', size = 30)\n",
    "plt.xlabel('Dollars', size = 25)\n",
    "plt.ylabel('Category Film', size = 25)\n",
    "plt.show()"
   ]
  },
  {
   "cell_type": "markdown",
   "metadata": {},
   "source": [
    "Dari Visualisasi diatas kita dapat melihat bahwa Category Film yang memiliki Rental Rate tertinggi adalah Sports dan yang memiliki Rental Rate terendah adalah Music."
   ]
  },
  {
   "cell_type": "markdown",
   "metadata": {},
   "source": [
    "Uji Statistik dan Korelasi"
   ]
  },
  {
   "cell_type": "code",
   "execution_count": 868,
   "metadata": {},
   "outputs": [
    {
     "name": "stdout",
     "output_type": "stream",
     "text": [
      "Tolak H0 Karena P-Value (0.0 < 5%)\n",
      "DATA TIDAK BERDISTRIBUS NORMAL\n"
     ]
    }
   ],
   "source": [
    "# Uji Normalitas Rental Rate\n",
    "\n",
    "from scipy.stats import shapiro\n",
    "\n",
    "norm, pval = shapiro(tabel1['rental_rate'])\n",
    "\n",
    "if pval < 0.05 :\n",
    "    print (f'Tolak H0 Karena P-Value ({pval} < 5%)')\n",
    "    print ('DATA TIDAK BERDISTRIBUS NORMAL')\n",
    "else :\n",
    "    print (f'Gagal Tolak H0 Karena P-Value ({pval} > 5%)')\n",
    "    print ('DATA BERDISTRIBUS NORMAL')"
   ]
  },
  {
   "cell_type": "code",
   "execution_count": 692,
   "metadata": {},
   "outputs": [
    {
     "name": "stdout",
     "output_type": "stream",
     "text": [
      "Tolak H0 Karena P-Value (3.119626305618483e-56 < 5%)\n",
      "Terdapat Perbedaan rental_rate pada Setiap film dengan kategori yang ada\n"
     ]
    }
   ],
   "source": [
    "# Uji Perbandingan Nilai Rental Rate Antar Setiap Category  (Kruskal Wallis)\n",
    "\n",
    "from scipy.stats import kruskal\n",
    "\n",
    "krus, pvalkrus = kruskal(\n",
    "    tabel1[tabel1['Category'] == 'Sports']['rental_rate'],\n",
    "    tabel1[tabel1['Category'] == 'Animation']['rental_rate'],\n",
    "    tabel1[tabel1['Category'] == 'Action']['rental_rate'],\n",
    "    tabel1[tabel1['Category'] == 'Sci-Fi']['rental_rate'],\n",
    "    tabel1[tabel1['Category'] == 'Family']['rental_rate'],\n",
    "    tabel1[tabel1['Category'] == 'Drama']['rental_rate'],\n",
    "    tabel1[tabel1['Category'] == 'Documentary']['rental_rate'],\n",
    "    tabel1[tabel1['Category'] == 'Foreign']['rental_rate'],\n",
    "    tabel1[tabel1['Category'] == 'Games']['rental_rate'],\n",
    "    tabel1[tabel1['Category'] == 'Children']['rental_rate'],\n",
    "    tabel1[tabel1['Category'] == 'Comedy']['rental_rate'],\n",
    "    tabel1[tabel1['Category'] == 'Classics']['rental_rate'],\n",
    "    tabel1[tabel1['Category'] == 'New']['rental_rate'],\n",
    "    tabel1[tabel1['Category'] == 'Horror']['rental_rate'],\n",
    "    tabel1[tabel1['Category'] == 'Travel']['rental_rate'],\n",
    "    tabel1[tabel1['Category'] == 'Music']['rental_rate']\n",
    ") \n",
    "\n",
    "if pvalkrus < 0.05 :\n",
    "    print (f'Tolak H0 Karena P-Value ({pvalkrus} < 5%)')\n",
    "    print ('Terdapat Perbedaan rental_rate pada Setiap film dengan kategori yang ada')\n",
    "else :\n",
    "    print (f'Gagal Tolak H0 Karena P-Value ({pvalkrus} > 5%)')\n",
    "    print ('Tidak Terdapat Perbedaan rental_rate pada Setiap film dengan kategori yang ada')"
   ]
  },
  {
   "cell_type": "markdown",
   "metadata": {},
   "source": [
    "Hasil uji kruskal Wall pada banyaknya Rental_Rate untuk Category Film menunjukan bahwa terdapat perbedaan. Ini menunjukan bahwa Rental Rate berpengaruh terhadap Category Film."
   ]
  },
  {
   "cell_type": "markdown",
   "metadata": {},
   "source": [
    "Hubungan Antar Tabel"
   ]
  },
  {
   "cell_type": "code",
   "execution_count": 705,
   "metadata": {},
   "outputs": [
    {
     "data": {
      "text/plain": [
       "<AxesSubplot:>"
      ]
     },
     "execution_count": 705,
     "metadata": {},
     "output_type": "execute_result"
    },
    {
     "data": {
      "image/png": "[encoded data removed]",
      "text/plain": [
       "<Figure size 720x720 with 2 Axes>"
      ]
     },
     "metadata": {},
     "output_type": "display_data"
    }
   ],
   "source": [
    "# Korelasi\n",
    "\n",
    "\n",
    "plt.figure(figsize=(10,10))\n",
    "sns.heatmap(tabel1.corr('spearman'), annot=True)"
   ]
  }
 ],
 "metadata": {
  "interpreter": {
   "hash": "2ac6d34eb33416a99fb741a58f0987aadc9634c8a0f09c4129dcf4056b3d411c"
  },
  "kernelspec": {
   "display_name": "Python 3.10.2 64-bit",
   "language": "python",
   "name": "python3"
  },
  "language_info": {
   "codemirror_mode": {
    "name": "ipython",
    "version": 3
   },
   "file_extension": ".py",
   "mimetype": "text/x-python",
   "name": "python",
   "nbconvert_exporter": "python",
   "pygments_lexer": "ipython3",
   "version": "3.10.2"
  },
  "orig_nbformat": 4
 },
 "nbformat": 4,
 "nbformat_minor": 2
}
